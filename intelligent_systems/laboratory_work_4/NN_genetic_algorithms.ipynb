{
 "cells": [
  {
   "cell_type": "code",
   "execution_count": 1,
   "metadata": {},
   "outputs": [],
   "source": [
    "import random\n",
    "import re\n",
    "import math\n",
    "import numpy as np\n",
    "import matplotlib.pyplot as plt\n",
    "import pandas as pd\n",
    "from operator import itemgetter\n",
    "import sys\n",
    "from mnist import MNIST\n",
    "mnist_data = MNIST('./MNIST_DATA')"
   ]
  },
  {
   "cell_type": "code",
   "execution_count": 30,
   "metadata": {},
   "outputs": [],
   "source": [
    "# Задаем основные параметры для ГА\n",
    "generations = 50\n",
    "population_size = 50\n",
    "chromosome_bodyoncetoldme = 784 # длина хромосомы\n",
    "selection_count = 25 # сколько особей выбирается в селекции\n",
    "mutation_normal = 0.05 # шанс мутации, от 0 до 1"
   ]
  },
  {
   "cell_type": "code",
   "execution_count": 31,
   "metadata": {},
   "outputs": [],
   "source": [
    "images_train, labels_train = mnist_data.load_training()\n",
    "learning_data = mnist_data.process_images_to_numpy(images_train)\n",
    "correct_answers = mnist_data.process_labels(labels_train)"
   ]
  },
  {
   "cell_type": "code",
   "execution_count": 32,
   "metadata": {},
   "outputs": [
    {
     "name": "stdout",
     "output_type": "stream",
     "text": [
      "[0 1 1 ... 1 0 1]\n"
     ]
    }
   ],
   "source": [
    "train_filter = []\n",
    "for element in correct_answers:\n",
    "  if (element == 0) | (element == 1):\n",
    "    train_filter.append(True)\n",
    "  else:\n",
    "    train_filter.append(False)\n",
    "\n",
    "# Нейроны\n",
    "x = np.around(learning_data / 255)[train_filter]\n",
    "y = np.array(correct_answers)[train_filter]\n",
    "\n",
    "print(y)"
   ]
  },
  {
   "cell_type": "code",
   "execution_count": 33,
   "metadata": {},
   "outputs": [],
   "source": [
    "# Функция активации\n",
    "def activate_function(current_value):\n",
    "    if(current_value > 0):\n",
    "        return 1\n",
    "    else:\n",
    "        return 0\n",
    "\n",
    "make_answer = np.vectorize(activate_function)"
   ]
  },
  {
   "cell_type": "code",
   "execution_count": 34,
   "metadata": {},
   "outputs": [],
   "source": [
    "def generate_population(size):\n",
    "\n",
    "    result = []\n",
    "\n",
    "    for num in range(size):\n",
    "        w = []\n",
    "        for i in range(chromosome_bodyoncetoldme):\n",
    "            w.append(random.uniform(-1, 1))\n",
    "        result.append(w)\n",
    "    return result"
   ]
  },
  {
   "cell_type": "code",
   "execution_count": 35,
   "metadata": {},
   "outputs": [
    {
     "data": {
      "text/plain": [
       "0.8727200947493091"
      ]
     },
     "execution_count": 35,
     "metadata": {},
     "output_type": "execute_result"
    }
   ],
   "source": [
    "def predict(vector):\n",
    "    result = 0\n",
    "    for i in range(2):\n",
    "        if(vector == 1): \n",
    "            result = i\n",
    "    return result\n",
    "\n",
    "# Функция приспособленности\n",
    "def fitness_function(w):\n",
    "    # w=np.array(w).reshape(len(w),1)\n",
    "    y_1 = x@w\n",
    "    y_1 = make_answer(y_1)\n",
    "\n",
    "    right = 0\n",
    "\n",
    "    for i in range(len(x)):\n",
    "        if(predict(y_1[i]) == y[i]):\n",
    "            right += 1\n",
    "\n",
    "    total_items = len(x)\n",
    "\n",
    "    accyracy = right / total_items\n",
    "    # Доля правильных ответов\n",
    "    return accyracy\n",
    "\n",
    "data_set = generate_population(1)[0]\n",
    "fitness_function(data_set)"
   ]
  },
  {
   "cell_type": "code",
   "execution_count": 36,
   "metadata": {},
   "outputs": [],
   "source": [
    "def print_population(data):\n",
    "    data_frame = pd.DataFrame(data)\n",
    "    print(data_frame)\n",
    "\n",
    "def population_best_result(data):\n",
    "    temp_data = []\n",
    "    for item in data:\n",
    "        temp_data.append((fitness_function(item), item))\n",
    "\n",
    "    best_result = sorted(temp_data, key=itemgetter(0), reverse=True)[0]\n",
    "\n",
    "    return (best_result)\n",
    "\n",
    "def population_max_result(data):\n",
    "    temp_data = []\n",
    "    for item in data:\n",
    "        temp_data.append((fitness_function(item), item))\n",
    "\n",
    "    max_result = sorted(temp_data, key=itemgetter(0))[0]\n",
    "\n",
    "    return (max_result)\n",
    "\n",
    "def population_average_result(data):\n",
    "    temp_data = []\n",
    "    for item in data:\n",
    "        temp_data.append((fitness_function(item)))\n",
    "\n",
    "    avg_result = np.mean(temp_data)\n",
    "\n",
    "    return avg_result"
   ]
  },
  {
   "cell_type": "code",
   "execution_count": 37,
   "metadata": {},
   "outputs": [],
   "source": [
    "def roulette_selection(data, sel_count):\n",
    "    pool = []\n",
    "    sectors = []\n",
    "    wheel = []\n",
    "    f_sum = 0\n",
    "\n",
    "    for chromosome in data:\n",
    "        f = fitness_function(chromosome)\n",
    "        f_sum += f\n",
    "    for chromosome in data:\n",
    "        f = fitness_function(chromosome)\n",
    "        v = f / f_sum * 100\n",
    "        sectors.append((v, chromosome))\n",
    "\n",
    "    point = 0\n",
    "\n",
    "    for i in range(0, len(sectors) - 1):\n",
    "        wheel.append((sectors[i][1], (point, point + sectors[i][0])))\n",
    "        point += sectors[i][0]\n",
    "        if(i == len(sectors) - 2):\n",
    "            wheel.append((sectors[i][1], (point, 100)))\n",
    "    for i in range(sel_count):\n",
    "        choice = random.randint(0, 100)\n",
    "        for j in wheel:\n",
    "            if((choice >= j[1][0]) and (choice <= j[1][1])):\n",
    "                pool.append(j[0])\n",
    "                break\n",
    "\n",
    "    return pool"
   ]
  },
  {
   "cell_type": "code",
   "execution_count": 38,
   "metadata": {},
   "outputs": [],
   "source": [
    "def simple_selection(data, sel_count):\n",
    "    pool = []\n",
    "    adaptation = []\n",
    "    for chromosome in data:\n",
    "        adaptation.append((fitness_function(chromosome), chromosome))\n",
    "\n",
    "    adaptation = sorted(adaptation, key=itemgetter(0), reverse=True)\n",
    "\n",
    "    for i in range(0, sel_count):\n",
    "        pool.append(adaptation[i][1])\n",
    "\n",
    "    return pool"
   ]
  },
  {
   "cell_type": "code",
   "execution_count": 39,
   "metadata": {},
   "outputs": [],
   "source": [
    "def permutation_crossover(parent_1, parent_2, chromo_length):\n",
    "    chromo_length -= 2\n",
    "    par_1_start = parent_1[0]\n",
    "    par_2_start = parent_2[0]\n",
    "    par_1_end = parent_1[len(parent_1) - 1]\n",
    "    par_2_end = parent_2[len(parent_1) - 1]\n",
    "    parent_1 = parent_1[1:len(parent_1) - 1]\n",
    "    parent_2 = parent_2[1:len(parent_2) - 1]\n",
    "\n",
    "    pos_1 = random.randint(1, chromo_length // 2 - 1)\n",
    "    pos_2 = random.randint(pos_1 + 1, chromo_length - 1)\n",
    "    middle = parent_1[pos_1:pos_2 + 1]\n",
    "\n",
    "    temp_data = []\n",
    "\n",
    "    for i in parent_2:\n",
    "        if not (i in middle): temp_data.append(i)\n",
    "\n",
    "    child_1 = []\n",
    "\n",
    "    for i in range(0, chromo_length - 1):\n",
    "        if(i < pos_1): child_1.append(temp_data.pop(0))\n",
    "        elif(i == pos_1): child_1 += middle\n",
    "        elif(i == pos_2): child_1.append(temp_data.pop(0))\n",
    "        elif(i > pos_2) and (len(temp_data) > 0): child_1.append(temp_data.pop(0))\n",
    "        elif(i > pos_2) and (len(temp_data) == 0): child_1.append(parent_2[i])\n",
    "\n",
    "    middle = parent_2[pos_1:pos_2 + 1]\n",
    "    temp_data = []\n",
    "\n",
    "    for i in parent_1:\n",
    "        if not (i in middle): temp_data.append(i)\n",
    "\n",
    "    child_2 = []\n",
    "\n",
    "    for i in range(0, chromo_length - 1):\n",
    "        if(i < pos_1): child_2.append(temp_data.pop(0))\n",
    "        elif(i == pos_1): child_2 += middle\n",
    "        elif(i == pos_2): child_2.append(temp_data.pop(0))\n",
    "        elif(i > pos_2) and (len(temp_data) > 0): child_2.append(temp_data.pop(0))\n",
    "        elif(i > pos_2) and (len(temp_data) == 0): child_2.append(parent_1[i])\n",
    "\n",
    "    child_1.insert(0, par_1_start)\n",
    "    child_1.append(par_1_end)\n",
    "\n",
    "    child_2.insert(0, par_2_start)\n",
    "    child_2.append(par_2_end)\n",
    "\n",
    "    return child_1, child_2"
   ]
  },
  {
   "cell_type": "code",
   "execution_count": 40,
   "metadata": {},
   "outputs": [],
   "source": [
    "def two_point_crossover(parent_1, parent_2, chromo_length):\n",
    "    chromo_length -= 2\n",
    "\n",
    "    par_1_start = parent_1[0]\n",
    "    par_2_start = parent_2[0]\n",
    "    par_1_end = parent_1[len(parent_1) - 1]\n",
    "    par_2_end = parent_2[len(parent_1) - 1]\n",
    "    parent_1 = parent_1[1:len(parent_1) - 1]\n",
    "    parent_2 = parent_2[1:len(parent_2) - 1]\n",
    "\n",
    "    pos_1 = random.randint(1, chromo_length // 2 - 1)\n",
    "    pos_2 = random.randint(pos_1 + 1, chromo_length - 1)\n",
    "\n",
    "    child_1 = parent_1[0:pos_1] + parent_2[pos_1 - 1:pos_2] + parent_1[pos_2 + 1:chromo_length]\n",
    "    child_2 = parent_2[0:pos_1] + parent_1[pos_1 - 1:pos_2] + parent_2[pos_2 + 1:chromo_length]\n",
    "\n",
    "    child_1.insert(0, par_1_start)\n",
    "    child_1.append(par_1_end)\n",
    "    child_2.insert(0, par_2_start)\n",
    "    child_2.append(par_2_end)\n",
    "\n",
    "    return child_1, child_2"
   ]
  },
  {
   "cell_type": "code",
   "execution_count": 41,
   "metadata": {},
   "outputs": [],
   "source": [
    "def mutation(chromosome, chrom_length):\n",
    "    result = chromosome\n",
    "    choice = random.random()\n",
    "\n",
    "    if(choice - mutation_normal <= 0):\n",
    "        pos_1 = random.randint(0, chrom_length // 2 - 1)\n",
    "        pos_2 = random.randint(pos_1 + 1, chrom_length - 1)\n",
    "\n",
    "        temp_data = result[pos_1:pos_2 + 1]\n",
    "\n",
    "        for i in range(len(temp_data)):\n",
    "            temp_data[i] = random.random()\n",
    "\n",
    "        result[pos_1:pos_2 + 1] = temp_data\n",
    "\n",
    "    return result"
   ]
  },
  {
   "cell_type": "code",
   "execution_count": 46,
   "metadata": {},
   "outputs": [
    {
     "name": "stdout",
     "output_type": "stream",
     "text": [
      "Текущая итерация: 0\n",
      "Текущая итерация: 1\n",
      "Текущая итерация: 2\n",
      "Текущая итерация: 3\n",
      "Текущая итерация: 4\n",
      "Текущая итерация: 5\n",
      "Текущая итерация: 6\n",
      "Текущая итерация: 7\n",
      "Текущая итерация: 8\n",
      "Текущая итерация: 9\n",
      "Текущая итерация: 10\n",
      "Текущая итерация: 11\n",
      "Текущая итерация: 12\n",
      "Текущая итерация: 13\n",
      "Текущая итерация: 14\n",
      "Текущая итерация: 15\n",
      "Текущая итерация: 16\n",
      "Текущая итерация: 17\n",
      "Текущая итерация: 18\n",
      "Текущая итерация: 19\n",
      "Текущая итерация: 20\n",
      "Текущая итерация: 21\n",
      "Текущая итерация: 22\n",
      "Текущая итерация: 23\n",
      "Текущая итерация: 24\n",
      "Текущая итерация: 25\n",
      "Текущая итерация: 26\n",
      "Текущая итерация: 27\n",
      "Текущая итерация: 28\n",
      "Текущая итерация: 29\n",
      "Текущая итерация: 30\n",
      "Текущая итерация: 31\n",
      "Текущая итерация: 32\n",
      "Текущая итерация: 33\n",
      "Текущая итерация: 34\n",
      "Текущая итерация: 35\n",
      "Текущая итерация: 36\n",
      "Текущая итерация: 37\n",
      "Текущая итерация: 38\n",
      "Текущая итерация: 39\n",
      "Текущая итерация: 40\n",
      "Текущая итерация: 41\n",
      "Текущая итерация: 42\n",
      "Текущая итерация: 43\n",
      "Текущая итерация: 44\n",
      "Текущая итерация: 45\n",
      "Текущая итерация: 46\n",
      "Текущая итерация: 47\n",
      "Текущая итерация: 48\n",
      "Текущая итерация: 49\n",
      "Лучший результат в конце 50 поколения:\n",
      "0.9540465850769838 [0.28546909269034004, -0.31865039135431394, -0.08827734167338308, -0.7087399836405202, -0.2728332772455022, 0.12953487474385939, -0.34518857544205317, 0.19243067519595014, 0.41219995040341884, -0.33481344514984235, -0.453568244846545, 0.6826118354456732, -0.14158131084479053, 0.4721215425960952, 0.11011979852401366, -0.30426860872561523, -0.7558729902394294, -0.16884382301442802, -0.05978093772131321, -0.8199674919267217, 0.06137529485735671, 0.8059206163057988, 0.5198729844007655, 0.546245287491741, -0.18639430825288605, -0.21989551258408002, 0.11110105148163829, 0.6897907061522646, 0.15576719463109046, 0.18486015341710849, 0.8476728279870088, 0.2559311195253007, 0.1627205728810487, 0.5682668110757005, 0.5719192838247606, 0.5718048090225409, 0.09043140518656079, 0.4494363911532093, 0.4503842714985752, 0.8058861976728687, 0.048621662263433896, 0.5278604229450562, 0.018347835368905052, 0.7995394713610202, 0.677746448481388, 0.7261546358881172, 0.8315617156292359, -0.33154934233684474, 0.0208590065268901, -0.7672670938516559, -0.015318267789774964, -0.7582730264192739, -0.8430383802790027, -0.30442190095958654, 0.8387456451731219, 0.4225530607993311, 0.9472967229694531, -0.009892004903977014, -0.8732545001706855, -0.09127122405592059, -0.4371336560284107, -0.20807564007976453, -0.39682717577126825, -0.6080552428981871, -0.822648182017589, -0.23788001456069985, 0.7226726458238877, -0.018400975898425154, -0.4196937919427126, 0.37234975137134785, 0.14389071209259385, 0.4946322008565811, -0.6226916432910055, -0.07817170549290076, -0.5131903183244146, -0.7685158603666387, -0.8341606508079151, -0.939970665493375, 0.47083041972621364, 0.7142223619612902, -0.4652447841311107, -0.42740507565157215, -0.6049468098682467, 0.061392312653064884, 0.8403833229140185, -0.7093348063486529, -0.25577901376534107, -0.30814369770090444, 0.021830657871531045, -0.7057420090063622, 0.883288753567063, 0.8357062021785908, -0.7504377365855455, -0.02787400822798758, -0.19032702082190922, -0.6611841837863475, -0.6037319501324223, 0.3368220395571131, -0.6017619622460051, 0.25918221963244026, -0.508516609613427, -0.8820416030608702, -0.6206444538863443, -0.2482335237415636, 0.7877501776298605, -0.11684923040962936, 0.8772447284115932, -0.1900952257261599, -0.9360009693612454, 0.687060851231446, -0.02074798436450709, 0.735580044498185, -0.7744554452479429, -0.4647140629796549, -0.045172710255648285, -0.7415870643787366, -0.6348850061225444, 0.2614374647522255, 0.6207961627304601, 0.9292984420744193, 0.5007631716777772, -0.10890548091269281, -0.9013089125845661, -0.15159402957381163, 0.8563697517677689, 0.4202878173260738, -0.9592023990045748, -0.5530111979463777, 0.6931546816631404, 0.001298459769336624, -0.5949875707651573, -0.02291053663291831, 0.8580604370111262, -0.28220063035615794, 0.35786061613192266, 0.7206648599383623, -0.7438647832173861, -0.7548857491236438, -0.727834659796031, -0.1361752772411775, -0.642235365982673, -0.29971723577346876, -0.47336425852300357, 0.5042499329525405, -0.06599442879580852, 0.5468368463622402, 0.08759632101857995, 0.13662869396554145, -0.9767929969171958, -0.7116212415717325, 0.22501509007520615, 0.06260845215402044, -0.9622186532095662, 0.21532628861833247, 0.39786905104714676, 0.9519287016433731, -0.9551731037738476, -0.8728877746948092, -0.06574102593023246, -0.5679271045292309, -0.22399479735449757, 0.37250032961517543, 0.015676439742897008, -0.8890613784911197, 0.25463509623582037, -0.0030711970820667123, 0.13323157638205152, 0.21218447106654814, -0.7593933039289111, 0.702968005910906, -0.3263662354626251, -0.9669032385202236, -0.44273554768844825, 0.8321205936829488, 0.3294578833871338, -0.6151314420877594, 0.8936822472187556, 0.4646381434749769, -0.47115700314318, 0.28762373063524693, -0.089434868504914, 0.32597121728719425, 0.7756088292208367, -0.29340814478172095, 0.9482565165803294, -0.08128993428059417, -0.5793587148459143, -0.20151461143247085, 0.0502458944049764, -0.7563245206563474, -0.3479885283777717, 0.9645988953226063, -0.046693666353341934, 0.7903485692078998, 0.12985777916625607, 0.7383756716303702, -0.22712050361821, 0.10652423491389507, -0.5426920077263409, -0.3488676916804725, -0.2914287668347568, -0.05343842656018016, 0.08878954994584398, 0.9285952538461859, -0.7413130355513686, -0.5986467921599408, -0.15693440521912705, -0.07901438317977694, 0.8697144709897842, 0.521905986657941, 0.32085501860115095, 0.32158434606004294, -0.7504655785045133, -0.682248204321606, 0.7541704942901466, -0.8598459439518389, 0.8478585700605457, 0.3481469791689513, 0.3146971754061165, 0.7417892532176396, -0.9479905564811275, 0.19802006909076608, -0.29099353633618463, 0.6744343934751764, 0.4268300787521342, 0.05980096772796384, -0.48148032662831497, 0.2817704869950133, 0.6444986485207704, -0.2133489336008878, -0.1323717209462847, 0.8427179058403456, 0.32838110697379697, 0.6717895521149284, -0.16217905951587164, -0.7455291805796267, -0.7987367455474139, 0.4114385345283327, -0.4327836235318343, -0.741719439218381, 0.38547435790600004, 0.6028920896968248, 0.06917591446207583, -0.6322768466972064, -0.0763731694491816, -0.6615323384246814, 0.20061873879599434, -0.3783483996427015, 0.9681859672703617, 0.46506167553409883, 0.15467220942909554, -0.9140737042761868, 0.8965303934873448, 0.6424139285357404, -0.4985958127282415, 0.9776147634820247, -0.7910926858812888, -0.5518271744797476, 0.13408463662007608, -0.24146630045272577, 0.759085668659796, -0.7364081324400389, 0.23128169791471587, 0.29368228431217, 0.04465655938793578, -0.2605781799850324, -0.23600004457162305, 0.4415663083006951, 0.48126359747952163, -0.9051490053681408, 0.7316299613263901, 0.3502233533930108, -0.9198297401549189, 0.12779842454275236, 0.3091234164635728, -0.7260242625488309, -0.96543487974403, 0.46949398926322083, -0.15711871722691795, -0.9036851306066989, 0.1098063713014441, -0.8828248546984876, -0.7812412833856743, 0.5049449540299369, 0.3962721216266949, -0.7571960240699065, -0.16848864122986207, -0.7063089588392724, -0.6427821196383301, 0.6944131936463247, -0.050105070939449936, 0.010836066649434484, -0.5329484974631515, -0.1535037515447084, -0.7920163161606579, 0.46543632096206344, 0.9584562454462014, 0.38261964622039957, 0.6555375318047276, -0.6963048600039303, 0.2785549685393347, 0.09790364934805473, 0.6775381977502284, 0.36816651417814095, -0.9867207116308554, -0.5670506035770213, -0.5368272553477393, 0.628875256012497, -0.04104542974954928, 0.6118085095961263, 0.49042871038007285, 0.9303318687232169, 0.9766960270654341, -0.23030675118914212, 0.9905222283443931, 0.9799956181758502, -0.6611909502299513, 0.4913400567396591, -0.08408219102699488, 0.6610697420683571, -0.5727197399331021, 0.08052680934786749, 0.5852530295615253, 0.48022001142248216, 0.7222993507126134, 0.9843279002146734, -0.898151165587868, 0.3696576362568924, -0.80515473645557, 0.21250381025390208, 0.6649534168782925, -0.9169782288515291, -0.8882269392891127, 0.1343801212872866, -0.08497482990995353, 0.025297446395960987, 0.6477512614419398, -0.8081599333607983, -0.3125598884391072, -0.03334598778716269, -0.22892714663184321, -0.24016926294838514, 0.4285228702353676, -0.6061128945469314, -0.01689616839527086, -0.3714451944564974, 0.5165665774032673, -0.8122327433825738, 0.469281244744975, 0.3846932312876048, 0.6066739030424622, 0.38604760023171614, 0.5218147384971226, -0.4472524509692022, -0.9172602104298253, -0.1995053112169356, -0.927501050632674, 0.5116408119567477, -0.28658131539858434, 0.1868856339228948, 0.06900883817563286, 0.859621978416975, -0.8145941169630342, 0.1914540843022694, -0.8802649129928892, 0.6783300122758062, -0.5235094644362788, 0.038221117935553606, -0.17211794338526265, 0.7825827087426165, 0.9680669393954773, -0.431836828358096, -0.5326273881791983, -0.8087181160127233, -0.9913123311490566, -0.5434429011505222, 0.8460084410725839, 0.7163863056539383, 0.36282700610861074, -0.2731834209423174, 0.1482451779641194, 0.5540648795375906, 0.5794708262343293, -0.6369153312779965, 0.4266113205931805, -0.9934457363948104, 0.044824040175381885, 0.8217491995711901, 0.9532212830533695, -0.1901252738450434, 0.6499880175846702, -0.054670503115559654, -0.8517496016809982, -0.6847083077354521, 0.3836254121651237, 0.8656339226684007, -0.8013321144305177, -0.27463380504495105, 0.35367865564193757, 0.04773628442197486, -0.47738230615735966, 0.9847553799975446, -0.6110497639331154, -0.28515646835493125, 0.25915711631340277, 0.5235119498291012, -0.04184288800198077, -0.49396767054374524, -0.8241233020558691, 0.7913677337931975, -0.1312171648096998, -0.33064846319708274, 0.7428757865382789, -0.5800744104294504, -0.6168295584980275, -0.9738176083928072, -0.1938488639542686, 0.3188434723913438, 0.6330631850285058, 0.5958507973035605, 0.5706482946403273, 0.4917000195687615, 0.990357106154758, 0.10895429176933291, -0.6693184339603522, -0.7317601839094454, 0.02852477241985585, 0.4286437380096786, -0.7859819191153723, -0.6511998622402602, 0.1625654579981235, -0.29350409034358904, 0.005320717588788826, -0.07206402003134871, 0.2517197162878211, 0.30424091144620635, -0.3127893101303425, 0.6053075320276835, -0.4736779375222169, -0.5633816972330918, 0.3046085818779012, -0.6179852379368942, 0.5275158293064806, -0.2259859890789453, 0.49311332144832587, -0.9419611464208386, -0.8484827534795218, 0.4410092128080525, 0.3925868674056472, -0.06489277707978958, -0.7697621941991029, -0.7397835438406721, -0.4604334826317953, 0.7950484971268887, 0.7016270753363878, -0.2248750551990657, 0.3383161411721973, 0.20701167085959304, 0.33583007902172324, 0.734549561209449, -0.4678072787594221, 0.42677217482435603, 0.9712897962035714, 0.9731643115710773, 0.004852846078268858, 0.707540047576185, -0.45313170041008766, -0.7523110360855516, -0.6854903546744182, 0.8871124135189632, 0.47937621535793085, 0.04212597624451031, -0.5118618446390077, -0.9687303615872902, 0.9155153152505937, -0.03640680598396351, -0.3325408292693268, 0.20058224097323385, -0.8163573539895141, -0.56579663703838, -0.4286311111713128, -0.27671458504894186, -0.0013902303042414577, -0.24367333121187462, -0.5031049688037128, 0.2835486142750414, -0.7133151796540529, -0.46850004787451227, 0.13262211766989074, -0.2347028955221815, 0.06469981746429054, 0.8448502491606957, 0.18953715762329093, 0.5644782299842313, 0.8979920308065867, 0.8078129608377307, -0.44925545786617715, 0.7928248457668872, -0.8926027271661277, -0.38929282065555393, 0.46558218968142784, 0.906698844603665, -0.419486549446455, -0.5282943395406317, 0.34608836807483656, -0.586340617479407, 0.33887518949526196, 0.9944514577596908, 0.8977962472733094, -0.6820800230235309, 0.32578090039181595, -0.39265536511221555, 0.13738783011243005, -0.37285097733616657, -0.7254812273783984, -0.8541777474085093, -0.05799142199270246, 0.876127794452594, -0.8117938922588452, -0.4329113387240615, -0.8920382795724358, 0.1328994158990522, -0.49601306389844657, -0.4513069271185315, -0.2865158813941666, -0.3488956307642974, -0.526868471002274, -0.020196382100999388, -0.546000117413397, -0.9173571509393763, -0.35769307015565843, -0.4946704346410742, 0.21200728856106266, 0.32188160375516706, 0.7384281459200295, 0.48873879758611416, -0.865360937712834, 0.5535884066185828, 0.16502925303605154, -0.8735198452376955, 0.1557428546534938, -0.8124372252123633, 0.003617442666889348, 0.020496168837600415, 0.650776136167069, -0.535060716495209, -0.2270478314370299, -0.533714385793757, 0.9263811004149491, 0.8614061947144529, -0.6445800124100014, -0.4060963397389632, -0.22972122534418893, -0.42649498626967675, -0.40121645587901966, -0.5770510590868958, 0.17885424963722274, -0.6946902816990006, -0.8976132583901988, -0.34196469034236787, 0.554011149105865, 0.279399561736303, -0.7058215967401951, -0.433420879157596, 0.4183628095622276, -0.7685896986805747, -0.7479227613783925, -0.245349816844048, -0.9716555237970905, -0.09393397520693858, 0.074725109557092, -0.06754258472999464, 0.546127441953467, 0.5313029694317672, -0.9129871749649916, -0.1518965835114412, 0.48476112790281034, -0.13813575583982107, 0.158073897770439, -0.9497158650759479, 0.12861426019451505, 0.4622990341541122, 0.11759989702068063, -0.5222817794434713, 0.005601946892938026, 0.9501855279935723, 0.8609344927074642, -0.8164670277094301, 0.813486451734176, 0.4553410490652734, 0.9791931834100307, -0.9341229661948318, 0.7702343050193121, 0.2365899024984297, 0.39244288968271235, 0.06904327152705814, 0.2121385675284284, 0.8094706476000002, 0.8723324062503561, -0.3880895371310771, -0.5611945161218626, 0.9918614305111464, -0.7703677589853195, -0.9960519823247374, -0.2127817929599014, 0.3288371203798055, 0.3261901116242063, -0.30684196052633106, 0.1576347419912627, 0.2033897866754475, 0.3360554562321474, -0.31300921923920866, 0.12228876908295927, 0.306935554296756, 0.534843180178862, 0.2687022798121055, -0.9588147779635703, 0.3062069756228514, -0.9540493174557054, -0.4946672776844985, -0.6572232907190896, 0.980398858187445, 0.1299875348150059, -0.47760924727490806, -0.963023402266691, 0.6255050432152223, 0.5531402135318044, -0.6696188713964115, -0.5752470856345111, 0.7001974319461013, -0.19624047084033958, 0.6973060937454072, 0.7618086101217509, 0.07282405428173, -0.2648267132882076, -0.38095634896732955, -0.6922845734880694, -0.6065509639144717, -0.9660105109063768, 0.0754999541334127, -0.3737544065445568, -0.0694168949602918, -0.73331324319718, 0.7736445888387182, 0.9538186261575969, -0.1607078170928875, 0.30898816875866353, -0.10591934805826342, -0.2068304330354016, -0.36617916207908774, 0.8543605961521727, 0.4946626060949335, -0.5061241200829893, 0.3077636527713501, 0.7819377645356698, -0.5384915799983883, 0.7122296304843958, -0.5475731937845356, 0.2633262070093332, 0.4517601251325394, 0.029092820654779583, -0.5281963301331614, -0.3212196848872033, -0.9534896942281457, 0.0032145333474751236, 0.013695784051035664, 0.7454474129920934, 0.7775217645402674, -0.3408585379289486, 0.42647428159648637, 0.10173564221787501, -0.5420686347726589, 0.08713320395075419, 0.6732154876791372, 0.9473035826144651, -0.6432241803494836, -0.7432911972768519, 0.008808644676451705, 0.3555764962509933, -0.7459588233550725, -0.4210679578192438, 0.46571089610324545, 0.8473573594644377, -0.9336597108709515, 0.5840204505285773, -0.6044986506085892, -0.33078717706025773, -0.8077434684217248, 0.6322716736153571, -0.6345986982776826, -0.5536228729904955, 0.6699192706734152, 0.3240608949484076, -0.7206563073979884, -0.35214240316121725, -0.6844718643685432, 0.2491367757976337, -0.39681091136364777, 0.4391409011687999, 0.7140228577285159, -0.4712586681718822, 0.9513435302458504, 0.6396954125443528, -0.42453726109580425, -0.21957289972386485, -0.8252711430992783, 0.22195881772236103, -0.16572856813510173, -0.41623812730127496, -0.4107772615573426, -0.8707745306092942, -0.1418153160505653, 0.7788225592955351, -0.6511426016814534, 0.036003952111627546, -0.6679279253802113, 0.6878046958732393, 0.9282989821398742, 0.03414311963094896, -0.6362146711303167, 0.7563421735447391, 0.15449338564617454, 0.6630908919581311, 0.8012037631229119, -0.9354057953307113, -0.7837605346173466, -0.9494488922612814, 0.8548964197849236, 0.9790878334037181, -0.9151517226246217, -0.7249716155863479, -0.5248867855372721, 0.6541679568817067, 0.13328836082192708, 0.384919219918316, 0.29428669438282173, 0.6224110697246354, 0.8097756488153263, -0.4723691765703184, -0.01735010383836122, -0.6416423154406417, 0.19832155477857638, -0.9302882131012853, 0.953269277102049, -0.235970316827671, 0.22182049367211198, -0.310569325391602, 0.21628133298739183, 0.4352465189826348, 0.26152215223077513, 0.5796589993268946, 0.0702547034818145, 0.7280807861433995, 0.8559140031067262, 0.9266596324099013, 0.4443832782065167, 0.26202703733870525, 0.6824444855871192, 0.8300900492225658, 0.7856840445031342, 0.6570999302199604, 0.023925115439618727, 0.08906306102644612, 0.5664661364058782, 0.7129569119629497, 0.31976502356079417, 0.9815368305478238, 0.4812955714564928, 0.2289920697727318, 0.4032878325875807, 0.4511481432395926, 0.5961457051463254, 0.5534510353171638, 0.5755434734398784, 0.05810432511644492, 0.47237491274441323, 0.18709888861460955, 0.19477525523971262, 0.6075089322334815, -0.22949732990105431, 0.4379647771804762, -0.18209742902052617, -0.8193273811548596, -0.8831238478971202]\n"
     ]
    }
   ],
   "source": [
    "average_results = []\n",
    "max_results = []\n",
    "min_results = []\n",
    "best = []\n",
    "\n",
    "elite_size = 10\n",
    "\n",
    "current_population = generate_population(population_size)\n",
    "\n",
    "for generation in range(generations):\n",
    "    if(elite_size > 0):\n",
    "        elite = simple_selection(current_population, elite_size)\n",
    "\n",
    "    current_population = roulette_selection(current_population, selection_count)\n",
    "\n",
    "    for i in range((population_size - selection_count - elite_size) // 2):\n",
    "        parent_1 = random.randint(0, selection_count - 1)\n",
    "        parent_2 = random.randint(0, selection_count - 1)\n",
    "\n",
    "        while(parent_2 == parent_1): \n",
    "            parent_2 = random.randint(0, selection_count - 1)\n",
    "\n",
    "        childrens = permutation_crossover(current_population[parent_1], current_population[parent_2], chromosome_bodyoncetoldme)\n",
    "\n",
    "        current_population.append(childrens[0])\n",
    "        current_population.append(childrens[1])\n",
    "\n",
    "    temp_data = current_population\n",
    "    for count in range(0, len(current_population) - 1):\n",
    "        temp_data[count] = mutation(current_population[count], chromosome_bodyoncetoldme)\n",
    "\n",
    "    current_population = temp_data\n",
    "\n",
    "    if(elite_size > 0):\n",
    "        current_population += elite\n",
    "\n",
    "    if(len(current_population) < population_size):\n",
    "        current_population.append(generate_population(1)[0])\n",
    "\n",
    "    best_result = population_best_result(current_population)\n",
    "\n",
    "    min_results.append(best_result[0])\n",
    "    max_results.append(population_max_result(current_population)[0])\n",
    "    average_results.append(population_average_result(current_population))\n",
    "\n",
    "    print(f'Текущая итерация: {generation}')\n",
    "print(f\"Лучший результат в конце {generations} поколения:\")\n",
    "print(min_results[generations - 1], best_result[1])"
   ]
  },
  {
   "cell_type": "code",
   "execution_count": 47,
   "metadata": {},
   "outputs": [
    {
     "data": {
      "image/png": "[encoded data removed]",
      "text/plain": [
       "<Figure size 432x288 with 1 Axes>"
      ]
     },
     "metadata": {
      "needs_background": "light"
     },
     "output_type": "display_data"
    }
   ],
   "source": [
    "# график приспособленности по поколениям\n",
    "def draw_progress(average_results, max_results, min_results, pok_count):\n",
    "    x = range(pok_count)\n",
    "    y_1 = average_results\n",
    "    y_2 = max_results\n",
    "    y_3 = min_results\n",
    "    plt.plot(x, y_1, linewidth=1, color=\"blue\")\n",
    "    plt.plot(x, y_2, linewidth=1, color=\"green\" )\n",
    "    plt.plot(x, y_3, linewidth=1, color=\"red\")\n",
    "    plt.show()\n",
    "\n",
    "draw_progress(average_results, max_results, min_results, generations)"
   ]
  }
 ],
 "metadata": {
  "kernelspec": {
   "display_name": "Python 3.10.0 64-bit",
   "language": "python",
   "name": "python3"
  },
  "language_info": {
   "codemirror_mode": {
    "name": "ipython",
    "version": 3
   },
   "file_extension": ".py",
   "mimetype": "text/x-python",
   "name": "python",
   "nbconvert_exporter": "python",
   "pygments_lexer": "ipython3",
   "version": "3.10.0"
  },
  "orig_nbformat": 4,
  "vscode": {
   "interpreter": {
    "hash": "305ef3f5ebfb772cf36ad768aa0371a76d4f9c468fa2831dc8f3165133ea3ace"
   }
  }
 },
 "nbformat": 4,
 "nbformat_minor": 2
}
