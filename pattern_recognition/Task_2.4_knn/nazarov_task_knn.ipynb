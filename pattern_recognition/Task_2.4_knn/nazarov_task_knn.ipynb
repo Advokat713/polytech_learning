{
 "cells": [
  {
   "attachments": {},
   "cell_type": "markdown",
   "metadata": {},
   "source": [
    "**Назаров Дмитрий Алексеевич 214-322**"
   ]
  },
  {
   "cell_type": "markdown",
   "metadata": {
    "tags": [
     "pdf-title"
    ]
   },
   "source": [
    "# Задание 1 Метод k-ближайших соседей (kNN) для задачи классификации изображений\n",
    "\n",
    "Цель: написать классификатор kNN и использовать его на базе CIFAR-10.\n",
    "\n",
    "Скачать базу изображений CIFAR-10 для задания можно по ссылке https://www.cs.toronto.edu/~kriz/cifar.html.\n",
    "\n",
    "Этапы выполнения:\n",
    "\n",
    "1. Обучить классификатор — выгрузить все данные в память;\n",
    "2. Проверить классификатор — сравнить все тестовые изображения с изображениями из обучения и присвоить классы от k ближайших соседей;\n",
    "3. Провести перекрестную проверку гиперпараметра k.\n",
    "\n",
    "Ниже созданы ячейки для кода с комментариями, в которых указано, что необходимо сделать."
   ]
  },
  {
   "cell_type": "code",
   "execution_count": 2,
   "metadata": {
    "tags": [
     "pdf-ignore"
    ]
   },
   "outputs": [],
   "source": [
    "# coding: utf8 Для кодировки и отображения графиков в этом же \"блокноте\".\n",
    "\n",
    "from __future__ import unicode_literals\n",
    "\n",
    "import os\n",
    "import random\n",
    "from builtins import object, range\n",
    "\n",
    "import matplotlib.pyplot as plt\n",
    "import numpy as np\n",
    "import math\n",
    "from collections import Counter\n",
    "from past.builtins import xrange\n",
    "# from six.moves import cPickle as pickle\n",
    "import pickle\n",
    "\n",
    "%matplotlib inline\n",
    "\n",
    "\n",
    "ROOT = \"./cifar_10_batches_py\"  # Путь до папки, где распакован CIFAR10"
   ]
  },
  {
   "cell_type": "code",
   "execution_count": 3,
   "metadata": {
    "tags": [
     "pdf-ignore"
    ]
   },
   "outputs": [],
   "source": [
    "# Функции для загрузки данных CIFAR10 в память\n",
    "\n",
    "def load_CIFAR_batch(filename):\n",
    "    with open(filename, 'rb') as f:\n",
    "        datadict = pickle.load(f, encoding='latin1')\n",
    "        X = datadict['data']\n",
    "        Y = datadict['labels']\n",
    "        X = X.reshape(10000, 3, 32, 32).transpose(0,2,3,1).astype(\"float\")\n",
    "        Y = np.array(Y)\n",
    "        return X, Y\n",
    "\n",
    "def load_CIFAR10(ROOT):\n",
    "    xs = []\n",
    "    ys = []\n",
    "    for b in range(1,6):\n",
    "        f = os.path.join(ROOT, 'data_batch_%d' % (b, ))\n",
    "        X, Y = load_CIFAR_batch(f)\n",
    "        xs.append(X)\n",
    "        ys.append(Y)\n",
    "    Xtr = np.concatenate(xs)\n",
    "    Ytr = np.concatenate(ys)\n",
    "    del X, Y\n",
    "    Xte, Yte = load_CIFAR_batch(os.path.join(ROOT, 'test_batch'))\n",
    "    return Xtr, Ytr, Xte, Yte"
   ]
  },
  {
   "cell_type": "code",
   "execution_count": 4,
   "metadata": {},
   "outputs": [
    {
     "name": "stdout",
     "output_type": "stream",
     "text": [
      "Training data shape:  (50000, 32, 32, 3)\n",
      "Training labels shape:  (50000,)\n",
      "Test data shape:  (10000, 32, 32, 3)\n",
      "Test labels shape:  (10000,)\n"
     ]
    }
   ],
   "source": [
    "try:\n",
    "    del x_train, y_train\n",
    "    del x_test, y_test\n",
    "    print('Удаляем ранее загруженные данные.')\n",
    "except:\n",
    "    pass\n",
    "\n",
    "x_train, y_train, x_test, y_test = load_CIFAR10(ROOT)  # Загружаем данные\n",
    "\n",
    "# Выводим информацию о размерностях для проверки работоспособности.\n",
    "print('Training data shape: ', x_train.shape)\n",
    "print('Training labels shape: ', y_train.shape)\n",
    "print('Test data shape: ', x_test.shape)\n",
    "print('Test labels shape: ', y_test.shape)"
   ]
  },
  {
   "cell_type": "code",
   "execution_count": 5,
   "metadata": {},
   "outputs": [
    {
     "name": "stdout",
     "output_type": "stream",
     "text": [
      "(5000, 3072) (500, 3072)\n"
     ]
    }
   ],
   "source": [
    "# Берем выборку изображений, для сокращения времени исполнения кода.\n",
    "num_training = 5000\n",
    "mask = list(range(num_training))\n",
    "x_train = x_train[mask]\n",
    "y_train = y_train[mask]\n",
    "\n",
    "num_test = 500\n",
    "mask = list(range(num_test))\n",
    "x_test = x_test[mask]\n",
    "y_test = y_test[mask]\n",
    "\n",
    "# Преобразуем изображения в строки\n",
    "x_train = np.reshape(x_train, (x_train.shape[0], -1))\n",
    "x_test = np.reshape(x_test, (x_test.shape[0], -1))\n",
    "print(x_train.shape, x_test.shape)"
   ]
  },
  {
   "cell_type": "code",
   "execution_count": 6,
   "metadata": {},
   "outputs": [],
   "source": [
    "class KNearestNeighbor(object):\n",
    "    #Классификатор kNN с L2 расстоянием\n",
    "    def __init__(self):\n",
    "        pass\n",
    "\n",
    "    def train(self, X, y):\n",
    "#         Обучение классификатора это просто помещение данных в память.\n",
    "#     Ввод:\n",
    "#     - X: Массив numpy размерности (N, D) содержащий данные для обучения;\n",
    "#     - y: Массив numpy размерности (N,) содержащий названия классов для обучения.\n",
    "        self.X_train = X\n",
    "        self.y_train = y\n",
    "    \n",
    "    def predict(self, X, k=1):\n",
    "#         Предсказание классов для тестовой выборки, используя классификатор.\n",
    "#     Ввод:\n",
    "#     - X: Массив numpy размерности (N, D) содержащий данные для тестирования;\n",
    "#     - k: количество соседей.\n",
    "#     Вывод:\n",
    "#     - y: Массив numpy размерности (N,) содержащий названия классов для тестирования.\n",
    "        dists = self.compute_distances(X)\n",
    "        return self.predict_labels(dists, k=k)\n",
    "\n",
    "    def compute_distances(self, X):\n",
    "#     Теперь необходимо рассчитать расстояния между изображениями обучающей и тестовой выборок.\n",
    "#     Должна получится матрица расстояний размерностью (Nобуч x Nтест),\n",
    "#     где каждый элемент это расстояние между изображениями.\n",
    "#     Ввод:\n",
    "#     - X: Массив numpy размерности (N, D) содержащий данные для тестирования;\n",
    "#     Вывод:\n",
    "#     - dists: Массив numpy размерности (num_test, num_train), где dists[i, j]\n",
    "#     евклидовы расстояния между i-ой тестовой точкой и j-ой обучающей.\n",
    "        num_test = X.shape[0]\n",
    "        num_train = self.X_train.shape[0]\n",
    "        dists = np.zeros((num_test, num_train))\n",
    "\n",
    "        # TODO:\n",
    "        # Вычислить l2 расстояние (евклидово расстояние)\n",
    "        # между the i-ой тестовой точкой и j-ой обучающей,\n",
    "        # и созранить значение в dists[i, j].\n",
    "        # В Python это можно сделать с двумя, циклами, с одним и без циклов.\n",
    "        # Для уменьшения числа циклов необходимо использовать векторизацию.\n",
    "\n",
    "        #dists = np.sqrt((X**2).sum(axis=1, keepdims=True) + (self.X_train**2).sum(axis=1) - 2 * X.dot(self.X_train.T))\n",
    "        for i in range(num_test):\n",
    "            for j in range(num_train):\n",
    "                dists[i, j] = np.sqrt(np.sum((X[i] - self.X_train[j])**2))\n",
    "\n",
    "        return dists\n",
    "\n",
    "    def predict_labels(self, dists, k=1):\n",
    "#         Имея матрицу расстояний между тестовыми точками и обучающими,\n",
    "#     нужно предсказать класс для каждой тестовой точки.\n",
    "#     Ввод:\n",
    "#     - dists: Массив numpy размерности (num_test, num_train), где dists[i, j]\n",
    "#       евклидовы расстояния между i-ой тестовой точкой и j-ой обучающей.\n",
    "#     Вывод:\n",
    "#     - y: Массив numpy размерности (num_test,), содержащий предсказанные классы для тестовой выборки,\n",
    "#     где y[i] это предсказанный класс для тестовой точки X[i].\n",
    "        num_test = dists.shape[0]\n",
    "        y_pred = np.zeros(num_test)\n",
    "        for i in range(num_test):\n",
    "            # Список длинной k содержащий классы k ближайших соседей к i-й тестовой точке.\n",
    "            closest_y = []\n",
    "            # TODO:\n",
    "            # Используя матрицу расстояний, найдите k ближайших соседей к i-й тестовой точке,\n",
    "            #  и с помощью self.y_train оопределите классы этих соседей.\n",
    "            #  Храните эти классы в closest_y.\n",
    "            # Подсказка: Посмотрите numpy.argsort.\n",
    "            # Теперь когда у нас есть классы k ближайших соседей, нужно определить наиболее встречающийся вариант\n",
    "            # в списке closest_y. Полученный класс сохраните в y_pred[i].\n",
    "            # Если количество соседей с разными классами равно, то берите класс с меньшим порядковым номером.\n",
    "            closest_y = self.y_train[np.argsort(dists[i])][:k]\n",
    "            closest_y = closest_y.astype(int)\n",
    "            y_pred[i] = np.bincount(closest_y).argmax()\n",
    "\n",
    "        return y_pred"
   ]
  },
  {
   "cell_type": "code",
   "execution_count": 7,
   "metadata": {},
   "outputs": [],
   "source": [
    "classifier = KNearestNeighbor()\n",
    "classifier.train(x_train, y_train)"
   ]
  },
  {
   "cell_type": "code",
   "execution_count": 8,
   "metadata": {},
   "outputs": [
    {
     "name": "stdout",
     "output_type": "stream",
     "text": [
      "Правильно определено 139 из 500. Точность: 0.278000\n"
     ]
    }
   ],
   "source": [
    "dists = classifier.compute_distances(x_test)\n",
    "# Для случая k = 1.\n",
    "y_test_pred = classifier.predict_labels(dists, k=1)\n",
    "\n",
    "num_correct = np.sum(y_test_pred == y_test)\n",
    "accuracy = float(num_correct) / num_test\n",
    "print('Правильно определено %d из %d. Точность: %f' % (num_correct, num_test, accuracy))"
   ]
  },
  {
   "cell_type": "markdown",
   "metadata": {},
   "source": [
    "### Перекрестная проверка\n",
    "\n",
    "Теперь необходимо выбрать лучшее значение этого гиперпараметра при помощи перекрестной проверки.\n",
    "Разбейте базу на 5 подвыборок.\n",
    "И рассчитайте точность для k 1, 3, 5, 8, 10, 12, 15, 20, 50, 100."
   ]
  },
  {
   "cell_type": "code",
   "execution_count": 9,
   "metadata": {
    "tags": [
     "code"
    ]
   },
   "outputs": [
    {
     "name": "stdout",
     "output_type": "stream",
     "text": [
      "k= 1 Fold= 0 Accuracy= 0.263\n",
      "k= 1 Fold= 1 Accuracy= 0.257\n",
      "k= 1 Fold= 2 Accuracy= 0.264\n",
      "k= 1 Fold= 3 Accuracy= 0.278\n",
      "k= 1 Fold= 4 Accuracy= 0.266\n",
      "k= 3 Fold= 0 Accuracy= 0.239\n",
      "k= 3 Fold= 1 Accuracy= 0.249\n",
      "k= 3 Fold= 2 Accuracy= 0.24\n",
      "k= 3 Fold= 3 Accuracy= 0.266\n",
      "k= 3 Fold= 4 Accuracy= 0.254\n",
      "k= 5 Fold= 0 Accuracy= 0.248\n",
      "k= 5 Fold= 1 Accuracy= 0.266\n",
      "k= 5 Fold= 2 Accuracy= 0.28\n",
      "k= 5 Fold= 3 Accuracy= 0.292\n",
      "k= 5 Fold= 4 Accuracy= 0.28\n",
      "k= 8 Fold= 0 Accuracy= 0.262\n",
      "k= 8 Fold= 1 Accuracy= 0.282\n",
      "k= 8 Fold= 2 Accuracy= 0.273\n",
      "k= 8 Fold= 3 Accuracy= 0.29\n",
      "k= 8 Fold= 4 Accuracy= 0.273\n",
      "k= 10 Fold= 0 Accuracy= 0.265\n",
      "k= 10 Fold= 1 Accuracy= 0.296\n",
      "k= 10 Fold= 2 Accuracy= 0.276\n",
      "k= 10 Fold= 3 Accuracy= 0.284\n",
      "k= 10 Fold= 4 Accuracy= 0.28\n",
      "k= 12 Fold= 0 Accuracy= 0.26\n",
      "k= 12 Fold= 1 Accuracy= 0.295\n",
      "k= 12 Fold= 2 Accuracy= 0.279\n",
      "k= 12 Fold= 3 Accuracy= 0.283\n",
      "k= 12 Fold= 4 Accuracy= 0.28\n",
      "k= 15 Fold= 0 Accuracy= 0.252\n",
      "k= 15 Fold= 1 Accuracy= 0.289\n",
      "k= 15 Fold= 2 Accuracy= 0.278\n",
      "k= 15 Fold= 3 Accuracy= 0.282\n",
      "k= 15 Fold= 4 Accuracy= 0.274\n",
      "k= 20 Fold= 0 Accuracy= 0.27\n",
      "k= 20 Fold= 1 Accuracy= 0.279\n",
      "k= 20 Fold= 2 Accuracy= 0.279\n",
      "k= 20 Fold= 3 Accuracy= 0.282\n",
      "k= 20 Fold= 4 Accuracy= 0.285\n",
      "k= 50 Fold= 0 Accuracy= 0.271\n",
      "k= 50 Fold= 1 Accuracy= 0.288\n",
      "k= 50 Fold= 2 Accuracy= 0.278\n",
      "k= 50 Fold= 3 Accuracy= 0.269\n",
      "k= 50 Fold= 4 Accuracy= 0.266\n",
      "k= 100 Fold= 0 Accuracy= 0.256\n",
      "k= 100 Fold= 1 Accuracy= 0.27\n",
      "k= 100 Fold= 2 Accuracy= 0.263\n",
      "k= 100 Fold= 3 Accuracy= 0.256\n",
      "k= 100 Fold= 4 Accuracy= 0.263\n",
      "k = 1, точность = 0.263000\n",
      "k = 1, точность = 0.257000\n",
      "k = 1, точность = 0.264000\n",
      "k = 1, точность = 0.278000\n",
      "k = 1, точность = 0.266000\n",
      "k = 3, точность = 0.239000\n",
      "k = 3, точность = 0.249000\n",
      "k = 3, точность = 0.240000\n",
      "k = 3, точность = 0.266000\n",
      "k = 3, точность = 0.254000\n",
      "k = 5, точность = 0.248000\n",
      "k = 5, точность = 0.266000\n",
      "k = 5, точность = 0.280000\n",
      "k = 5, точность = 0.292000\n",
      "k = 5, точность = 0.280000\n",
      "k = 8, точность = 0.262000\n",
      "k = 8, точность = 0.282000\n",
      "k = 8, точность = 0.273000\n",
      "k = 8, точность = 0.290000\n",
      "k = 8, точность = 0.273000\n",
      "k = 10, точность = 0.265000\n",
      "k = 10, точность = 0.296000\n",
      "k = 10, точность = 0.276000\n",
      "k = 10, точность = 0.284000\n",
      "k = 10, точность = 0.280000\n",
      "k = 12, точность = 0.260000\n",
      "k = 12, точность = 0.295000\n",
      "k = 12, точность = 0.279000\n",
      "k = 12, точность = 0.283000\n",
      "k = 12, точность = 0.280000\n",
      "k = 15, точность = 0.252000\n",
      "k = 15, точность = 0.289000\n",
      "k = 15, точность = 0.278000\n",
      "k = 15, точность = 0.282000\n",
      "k = 15, точность = 0.274000\n",
      "k = 20, точность = 0.270000\n",
      "k = 20, точность = 0.279000\n",
      "k = 20, точность = 0.279000\n",
      "k = 20, точность = 0.282000\n",
      "k = 20, точность = 0.285000\n",
      "k = 50, точность = 0.271000\n",
      "k = 50, точность = 0.288000\n",
      "k = 50, точность = 0.278000\n",
      "k = 50, точность = 0.269000\n",
      "k = 50, точность = 0.266000\n",
      "k = 100, точность = 0.256000\n",
      "k = 100, точность = 0.270000\n",
      "k = 100, точность = 0.263000\n",
      "k = 100, точность = 0.256000\n",
      "k = 100, точность = 0.263000\n"
     ]
    }
   ],
   "source": [
    "num_folds = 5\n",
    "k_choices = [1, 3, 5, 8, 10, 12, 15, 20, 50, 100]\n",
    "\n",
    "x_train_folds = []\n",
    "y_train_folds = []\n",
    "\n",
    "# TODO:\n",
    "# Разделите обучающую выборку на подвыборки. После разделения,\n",
    "# X_train_folds и y_train_folds должны быть списками длинны num_folds, где\n",
    "# y_train_folds[i] вектор классов для точек в X_train_folds[i].\n",
    "# Подсказка: Функция numpy array_split.\n",
    "\n",
    "X_train_folds = np.array_split(x_train, num_folds)\n",
    "y_train_folds = np.array_split(y_train, num_folds)\n",
    "\n",
    "# Словарь родержащий точности для разных значений k, которые мы получаем при кроссвалидации.\n",
    "# После кроссвалидации k_to_accuracies[k] должен быть списком длинной num_folds со значениями для k.\n",
    "k_to_accuracies={}\n",
    "\n",
    "# TODO:\n",
    "# Провести кроссвалидацию для нахождения значения числа соседей, дающего наилучший результат.\n",
    "# Для каждого возможного значения k классифицируйте изоражения num_folds раз.\n",
    "# Сохраните точности для всех блоков (folds) и для всех k в словаре k_to_accuracies.\n",
    "\n",
    "for k in k_choices:\n",
    "    for fold in range(num_folds): \n",
    "        #Создание данных проверки и временных обучающих данных\n",
    "        validation_X_test = X_train_folds[fold]\n",
    "        validation_y_test = y_train_folds[fold]\n",
    "        temp_X_train = np.concatenate(X_train_folds[:fold] + X_train_folds[fold + 1:])\n",
    "        temp_y_train = np.concatenate(y_train_folds[:fold] + y_train_folds[fold + 1:])\n",
    "\n",
    "        #Инициализация класса\n",
    "        test_classifier = KNearestNeighbor()\n",
    "        test_classifier.train( temp_X_train, temp_y_train )\n",
    "        \n",
    "        #Расстояние\n",
    "        temp_dists = test_classifier.compute_distances(validation_X_test)\n",
    "        temp_y_test_pred = test_classifier.predict_labels(temp_dists, k=k)\n",
    "        \n",
    "        #Точность\n",
    "        num_correct = np.sum(temp_y_test_pred == validation_y_test)\n",
    "        num_test = validation_X_test.shape[0]\n",
    "        accuracy = float(num_correct) / num_test\n",
    "        print(\"k=\",k,\"Fold=\",fold,\"Accuracy=\",accuracy)\n",
    "        k_to_accuracies[k] = k_to_accuracies.get(k,[]) + [accuracy]\n",
    "\n",
    "\n",
    "# Вывод точностей\n",
    "for k in sorted(k_to_accuracies):\n",
    "    for accuracy in k_to_accuracies[k]:\n",
    "        print('k = %d, точность = %f' % (k, accuracy))"
   ]
  },
  {
   "cell_type": "code",
   "execution_count": 10,
   "metadata": {},
   "outputs": [
    {
     "data": {
      "image/png": "[encoded data removed]",
      "text/plain": [
       "<Figure size 640x480 with 1 Axes>"
      ]
     },
     "metadata": {},
     "output_type": "display_data"
    },
    {
     "name": "stdout",
     "output_type": "stream",
     "text": [
      "[0.2656 0.2496 0.2732 0.276  0.2802 0.2794 0.275  0.279  0.2744 0.2616]\n"
     ]
    }
   ],
   "source": [
    "# График с линией тренда\n",
    "for k in k_choices:\n",
    "    accuracies = k_to_accuracies[k]\n",
    "    plt.scatter([k] * len(accuracies), accuracies)\n",
    "\n",
    "accuracies_mean = np.array([np.mean(v) for k,v in sorted(k_to_accuracies.items())])\n",
    "accuracies_std = np.array([np.std(v) for k,v in sorted(k_to_accuracies.items())])\n",
    "plt.errorbar(k_choices, accuracies_mean, yerr=accuracies_std)\n",
    "plt.title('Cross-validation on k')\n",
    "plt.xlabel('k')\n",
    "plt.ylabel('Cross-validation accuracy')\n",
    "plt.show()\n",
    "print(accuracies_mean)"
   ]
  },
  {
   "cell_type": "code",
   "execution_count": 11,
   "metadata": {},
   "outputs": [
    {
     "name": "stdout",
     "output_type": "stream",
     "text": [
      "Правильно определено 141 из 1000. Точность: 0.141000\n"
     ]
    }
   ],
   "source": [
    "# Выберите k с наибольшей точностью.   \n",
    "# Переобучите классификатор на всех обучающих данных и проверьте на тестовой выборке.\n",
    "# Вы должны получить точность около 28%.\n",
    "\n",
    "best_k =  10\n",
    "\n",
    "classifier = KNearestNeighbor()\n",
    "classifier.train(x_train, y_train)\n",
    "y_test_pred = classifier.predict(x_test, k=best_k)\n",
    "\n",
    "# Рассчет и вывод точности\n",
    "num_correct = np.sum(y_test_pred == y_test)\n",
    "accuracy = float(num_correct) / num_test\n",
    "print('Правильно определено %d из %d. Точность: %f' % (num_correct, num_test, accuracy))"
   ]
  },
  {
   "cell_type": "code",
   "execution_count": 14,
   "metadata": {},
   "outputs": [
    {
     "name": "stdout",
     "output_type": "stream",
     "text": [
      "[4. 8. 8. 8. 4. 2. 6. 4. 2. 8. 0. 8. 4. 6. 8. 8. 5. 3. 8. 2. 2. 0. 0. 6.\n",
      " 2. 4. 4. 7. 4. 2. 4. 2. 4. 3. 8. 6. 2. 8. 2. 4. 8. 6. 2. 4. 0. 8. 5. 0.\n",
      " 4. 2. 8. 8. 6. 2. 8. 8. 5. 6. 0. 2. 2. 6. 6. 0. 4. 2. 8. 0. 3. 9. 2. 4.\n",
      " 8. 8. 0. 2. 8. 3. 6. 8. 8. 6. 2. 0. 2. 8. 2. 8. 8. 8. 0. 2. 0. 2. 2. 2.\n",
      " 4. 0. 0. 4. 4. 4. 3. 3. 4. 8. 4. 6. 5. 5. 4. 0. 6. 2. 4. 4. 0. 4. 4. 4.\n",
      " 8. 4. 2. 2. 8. 4. 8. 6. 4. 2. 2. 8. 8. 6. 2. 2. 9. 0. 2. 8. 2. 8. 0. 2.\n",
      " 8. 0. 6. 2. 5. 5. 0. 3. 0. 8. 4. 4. 0. 8. 5. 4. 0. 2. 2. 4. 8. 0. 8. 2.\n",
      " 5. 0. 8. 7. 2. 8. 4. 9. 0. 4. 4. 0. 8. 3. 2. 4. 2. 0. 6. 6. 1. 8. 2. 4.\n",
      " 2. 2. 4. 4. 8. 0. 4. 0. 2. 7. 8. 4. 8. 4. 0. 2. 2. 0. 4. 8. 0. 7. 8. 0.\n",
      " 0. 9. 0. 4. 6. 6. 0. 2. 2. 2. 4. 2. 3. 4. 3. 1. 2. 4. 0. 2. 6. 9. 0. 0.\n",
      " 0. 0. 8. 0. 2. 4. 6. 0. 4. 3. 2. 3. 4. 6. 2. 8. 2. 0. 8. 4. 5. 8. 4. 2.\n",
      " 2. 8. 8. 4. 0. 0. 2. 6. 6. 3. 8. 2. 8. 2. 6. 6. 8. 4. 2. 8. 0. 4. 5. 8.\n",
      " 2. 8. 2. 4. 2. 8. 3. 4. 2. 0. 8. 2. 2. 6. 4. 2. 4. 8. 8. 2. 1. 4. 8. 4.\n",
      " 0. 0. 2. 0. 2. 4. 6. 4. 5. 6. 6. 4. 2. 8. 0. 2. 2. 2. 4. 9. 2. 4. 2. 4.\n",
      " 6. 8. 0. 4. 4. 2. 0. 4. 8. 4. 0. 6. 8. 8. 2. 4. 8. 2. 2. 2. 2. 4. 8. 0.\n",
      " 2. 5. 8. 0. 0. 8. 4. 2. 4. 4. 2. 8. 0. 8. 4. 2. 8. 2. 2. 2. 2. 4. 0. 0.\n",
      " 2. 0. 8. 2. 2. 6. 0. 0. 2. 5. 2. 4. 4. 4. 8. 3. 9. 4. 2. 8. 0. 6. 0. 0.\n",
      " 0. 2. 8. 8. 2. 4. 9. 8. 0. 5. 4. 7. 6. 4. 8. 2. 2. 8. 5. 4. 4. 6. 2. 8.\n",
      " 2. 4. 8. 4. 0. 4. 6. 4. 2. 4. 9. 8. 5. 4. 8. 0. 2. 0. 6. 8. 4. 2. 8. 2.\n",
      " 2. 4. 6. 8. 4. 4. 2. 4. 0. 2. 4. 2. 3. 8. 2. 4. 8. 4. 2. 4. 2. 0. 2. 4.\n",
      " 8. 2. 8. 4. 2. 8. 9. 4. 8. 0. 0. 8. 8. 1. 8. 8. 2. 0. 2. 0.]\n",
      "[3 8 8 0 6 6 1 6 3 1 0 9 5 7 9 8 5 7 8 6 7 0 4 9 5 2 4 0 9 6 6 5 4 5 9 2 4\n",
      " 1 9 5 4 6 5 6 0 9 3 9 7 6 9 8 0 3 8 8 7 7 4 6 7 3 6 3 6 2 1 2 3 7 2 6 8 8\n",
      " 0 2 9 3 3 8 8 1 1 7 2 5 2 7 8 9 0 3 8 6 4 6 6 0 0 7 4 5 6 3 1 1 3 6 8 7 4\n",
      " 0 6 2 1 3 0 4 2 7 8 3 1 2 8 0 8 3 5 2 4 1 8 9 1 2 9 7 2 9 6 5 6 3 8 7 6 2\n",
      " 5 2 8 9 6 0 0 5 2 9 5 4 2 1 6 6 8 4 8 4 5 0 9 9 9 8 9 9 3 7 5 0 0 5 2 2 3\n",
      " 8 6 3 4 0 5 8 0 1 7 2 8 8 7 8 5 1 8 7 1 3 0 5 7 9 7 4 5 9 8 0 7 9 8 2 7 6\n",
      " 9 4 3 9 6 4 7 6 5 1 5 8 8 0 4 0 5 5 1 1 8 9 0 3 1 9 2 2 5 3 9 9 4 0 3 0 0\n",
      " 9 8 1 5 7 0 8 2 4 7 0 2 3 6 3 8 5 0 3 4 3 9 0 6 1 0 9 1 0 7 9 1 2 6 9 3 4\n",
      " 6 0 0 6 6 6 3 2 6 1 8 2 1 6 8 6 8 0 4 0 7 7 5 5 3 5 2 3 4 1 7 5 4 6 1 9 3\n",
      " 6 6 9 3 8 0 7 2 6 2 5 8 5 4 6 8 9 9 1 0 2 2 7 3 2 8 0 9 5 8 1 9 4 1 3 8 1\n",
      " 4 7 9 4 2 7 0 7 0 6 6 9 0 9 2 8 7 2 2 5 1 2 6 2 9 6 2 3 0 3 9 8 7 8 8 4 0\n",
      " 1 8 2 7 9 3 6 1 9 0 7 3 7 4 5 0 0 2 9 3 4 0 6 2 5 3 7 3 7 2 5 3 1 1 4 9 9\n",
      " 5 7 5 0 2 2 2 9 7 3 9 4 3 5 4 6 5 6 1 4 3 4 4 3 7 8 3 7 8 0 5 7 6 0 5 4 8\n",
      " 6 8 5 5 9 9 9 5 0 1 0 8 1 1 8 0 2 2 0]\n"
     ]
    }
   ],
   "source": [
    "# print(y_test_pred)\n",
    "# print(y_test)"
   ]
  },
  {
   "cell_type": "code",
   "execution_count": 23,
   "metadata": {},
   "outputs": [
    {
     "data": {
      "image/png": "[encoded data removed]",
      "text/plain": [
       "<Figure size 640x480 with 2 Axes>"
      ]
     },
     "metadata": {},
     "output_type": "display_data"
    }
   ],
   "source": [
    "# Построить матрицу ошибок (confusion matrix) для 10 классов для лучшей модели,\n",
    "# чтобы оценить в каких классах модель допускает больше всего ошибок.\n",
    "\n",
    "errors_matrix=np.zeros((10,10))\n",
    "\n",
    "for i in range(len(y_test_pred)):\n",
    "    errors_matrix[int(y_test_pred[i])][y_test[i]]+=1\n",
    "\n",
    "confusion_matrix =  errors_matrix # присвоить матрицу ошибок переменной confusion_matrix\n",
    "\n",
    "# fig, ax = plt.subplots()\n",
    "# im = ax.imshow(a, interpolation='nearest')\n",
    "\n",
    "# ax.set_xticks(np.arange(10), labels=[x for x in range(10)])  # Массив в labels можно с индексов заменить на имена классов\n",
    "# ax.set_yticks(np.arange(10), labels=[x for x in range(10)])  # Массив в labels можно с индексов заменить на имена классов\n",
    "\n",
    "# for i in range(10):\n",
    "#     for j in range(10):\n",
    "#         text = ax.text(j, i, confusion_matrix[i, j], ha=\"center\", va=\"center\", color=\"w\")\n",
    "\n",
    "# fig.tight_layout()\n",
    "# plt.show()\n",
    "\n",
    "\n",
    "#create chart\n",
    "fig, ax = plt.subplots()\n",
    "im = ax.imshow (confusion_matrix)\n",
    "\n",
    "\n",
    "#add color bar\n",
    "fig. colorbar (im)\n",
    "\n",
    "plt.show()"
   ]
  },
  {
   "attachments": {},
   "cell_type": "markdown",
   "metadata": {},
   "source": [
    "## Анализ данных\n",
    "\n",
    "Проанализировать данные и сделать выводы о возможных проблемах.\n",
    "\n",
    "1) Наиболее точно программе удаётся определить классы №0, №2 и №8.\n",
    "2) Классификатор при работе показывает низкую точность результатов, а перекрёстная проверка занимает много времени.\n",
    "3) Класс №2 может быть оперделён как №6\n",
    "4) Класс №8 может быть определён как №0 или №9\n",
    "5) Класс №4 может быть определён как №5 или №6 или №7"
   ]
  }
 ],
 "metadata": {
  "kernelspec": {
   "display_name": "Python 3",
   "language": "python",
   "name": "python3"
  },
  "language_info": {
   "codemirror_mode": {
    "name": "ipython",
    "version": 3
   },
   "file_extension": ".py",
   "mimetype": "text/x-python",
   "name": "python",
   "nbconvert_exporter": "python",
   "pygments_lexer": "ipython3",
   "version": "3.10.0 (tags/v3.10.0:b494f59, Oct  4 2021, 19:00:18) [MSC v.1929 64 bit (AMD64)]"
  },
  "vscode": {
   "interpreter": {
    "hash": "305ef3f5ebfb772cf36ad768aa0371a76d4f9c468fa2831dc8f3165133ea3ace"
   }
  }
 },
 "nbformat": 4,
 "nbformat_minor": 1
}
