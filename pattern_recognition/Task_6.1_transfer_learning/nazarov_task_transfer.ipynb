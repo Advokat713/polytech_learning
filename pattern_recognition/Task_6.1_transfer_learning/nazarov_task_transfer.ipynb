{
 "cells": [
  {
   "attachments": {},
   "cell_type": "markdown",
   "metadata": {},
   "source": [
    "**Назаров Дмитрий Алексеевич 214-322**"
   ]
  },
  {
   "attachments": {},
   "cell_type": "markdown",
   "metadata": {},
   "source": [
    "# Задание 4 Transfer Learning\n",
    "\n",
    "## Задание\n",
    "\n",
    "Решить вашу задачу классификации используя перенос обучения. **Transfer Learning** - это процесс дообучения на **новых данных** нейросети, которая была обучена до этого на других данных, например, ImageNet.\n",
    "\n",
    "Определить задачу по классификации изображений основываясь на вашей теме диссертации. Если тема никак не связывается с изображениями, то придумать абстрактную задачу, например классификация радиодеталей.\n",
    "\n",
    "В рамках задачи выбрать количество классов объектов. На каждый класс подобрать минимум по 30 изображений и распределить их на обучающую (train) и проверочную выборку (val).\n",
    "\n",
    "Выбрать 2-3 уже обученные модели, дообучить их на ваших данных и оценить результат. Обученную модель используйте для извлечения признаков, то есть нужно \"заморозить\" все веса, кроме последних полносвязных слоев. Их мы создаем заново и в соответствии с вашим количеством классов.\n",
    "\n",
    "## Источники\n",
    "\n",
    "1. [Transfer learning for computer vision tutorial](https://pytorch.org/tutorials/beginner/transfer_learning_tutorial.html)"
   ]
  },
  {
   "cell_type": "code",
   "execution_count": 6,
   "metadata": {},
   "outputs": [],
   "source": [
    "import os\n",
    "from tqdm.autonotebook import tqdm, trange\n",
    "\n",
    "import torch\n",
    "import torch.nn as nn\n",
    "import torch.optim as optim\n",
    "from torch.optim import lr_scheduler\n",
    "\n",
    "import numpy as np\n",
    "import torchvision\n",
    "from torchvision import datasets, models, transforms\n",
    "import matplotlib.pyplot as plt\n",
    "import time\n",
    "from torchvision.io import read_image\n",
    "from torchvision.models import ResNet101_Weights, ResNet18_Weights\n",
    "import copy"
   ]
  },
  {
   "cell_type": "code",
   "execution_count": 7,
   "metadata": {},
   "outputs": [],
   "source": [
    "# Преобразование обучающих данных для расширения обучающей выборки и её нормализация\n",
    "# Для валидационной (тестовой) выборки только нормализация\n",
    "\n",
    "data_transforms = {\n",
    "    'train': transforms.Compose([\n",
    "        transforms.RandomResizedCrop(244),\n",
    "        transforms.RandomHorizontalFlip(),\n",
    "        transforms.ToTensor(),\n",
    "        transforms.Normalize([0.485, 0.456, 0.406], [0.229, 0.224, 0.225])\n",
    "    ]),\n",
    "    'val': transforms.Compose([\n",
    "        transforms.Resize(256),\n",
    "        transforms.CenterCrop(244),\n",
    "        transforms.ToTensor(),\n",
    "        transforms.Normalize([0.485, 0.456, 0.406], [0.229, 0.224, 0.225])\n",
    "    ]),\n",
    "}\n",
    "\n",
    "data_dir =  \"./hymenoptera_data\" # папка с данными. Если запускаете в Colab, нужно скопировать данные к себе в директорию и примонтировать диск. Если запускаете локально --- скачайте данные.\n",
    "\n",
    "image_datasets = {x: datasets.ImageFolder(os.path.join(data_dir, x), data_transforms[x]) for x in ['train', 'val']}\n",
    "# специальный класс для загрузки данных в виде батчей\n",
    "dataloaders = {x: torch.utils.data.DataLoader(image_datasets[x], batch_size=4, shuffle=True, num_workers=2) for x in ['train', 'val']}\n",
    "dataset_sizes = {x: len(image_datasets[x]) for x in ['train', 'val']}\n",
    "class_names = image_datasets['train'].classes\n",
    "\n",
    "use_gpu = torch.cuda.is_available()"
   ]
  },
  {
   "attachments": {},
   "cell_type": "markdown",
   "metadata": {},
   "source": [
    "## Извлечение признаков\n",
    "\n",
    "[Список](https://pytorch.org/vision/stable/models.html#classification) предобученных моделей в Pytorch."
   ]
  },
  {
   "attachments": {},
   "cell_type": "markdown",
   "metadata": {},
   "source": [
    "### Загрузка модели"
   ]
  },
  {
   "cell_type": "code",
   "execution_count": 8,
   "metadata": {},
   "outputs": [
    {
     "name": "stderr",
     "output_type": "stream",
     "text": [
      "Downloading: \"https://download.pytorch.org/models/resnet101-cd907fc2.pth\" to C:\\Users\\Shrek/.cache\\torch\\hub\\checkpoints\\resnet101-cd907fc2.pth\n"
     ]
    },
    {
     "data": {
      "application/vnd.jupyter.widget-view+json": {
       "model_id": "ae5f3bb21b6246489e3eee4aff591edf",
       "version_major": 2,
       "version_minor": 0
      },
      "text/plain": [
       "  0%|          | 0.00/171M [00:00<?, ?B/s]"
      ]
     },
     "metadata": {},
     "output_type": "display_data"
    }
   ],
   "source": [
    "num_classes = 2 # Количество классов в вашей задаче\n",
    "\n",
    "# weights = ResNet18_Weights.DEFAULT\n",
    "# model_conv = torchvision.models.resnet18(weights=weights) # Выбирите 2-3 модели из списка и дообучите их (pretrained=True)\n",
    "weights = ResNet101_Weights.DEFAULT\n",
    "model_conv = torchvision.models.resnet101(weights=weights)\n",
    "for param in model_conv.parameters():\n",
    "    param.requires_grad = False\n",
    "\n",
    "# Параметры вновь созданных моделей по умолчанию имеют requires_grad=True\n",
    "num_ftrs = model_conv.fc.in_features\n",
    "model_conv.fc = nn.Linear(num_ftrs, num_classes)\n",
    "\n",
    "device = torch.device('cuda' if torch.cuda.is_available() else 'cpu')\n",
    "model_conv = model_conv.to(device)\n",
    "\n",
    "criterion = nn.CrossEntropyLoss()\n",
    "\n",
    "# Обратите внимание, что оптимизируются только параметры последнего слоя, в отличие от предыдущего.\n",
    "optimizer_conv = optim.SGD(model_conv.fc.parameters(), lr=0.001, momentum=0.9)\n",
    "\n",
    "# Уменьшение LR в 0,1 раза каждые 7 эпох\n",
    "exp_lr_scheduler = lr_scheduler.StepLR(optimizer_conv, step_size=7, gamma=0.1)"
   ]
  },
  {
   "attachments": {},
   "cell_type": "markdown",
   "metadata": {},
   "source": [
    "### Функция для обучения"
   ]
  },
  {
   "cell_type": "code",
   "execution_count": 9,
   "metadata": {},
   "outputs": [],
   "source": [
    "def train_model(model, criterion, optimizer, scheduler, num_epochs=25):\n",
    "    since = time.time()\n",
    "\n",
    "    best_model_wts = copy.deepcopy(model.state_dict())\n",
    "    best_acc = 0.0\n",
    "\n",
    "    for epoch in range(num_epochs):\n",
    "        print(f'Epoch {epoch}/{num_epochs - 1}')\n",
    "        print('-' * 10)\n",
    "\n",
    "        # Each epoch has a training and validation phase\n",
    "        for phase in ['train', 'val']:\n",
    "            if phase == 'train':\n",
    "                model.train()  # Set model to training mode\n",
    "            else:\n",
    "                model.eval()   # Set model to evaluate mode\n",
    "\n",
    "            running_loss = 0.0\n",
    "            running_corrects = 0\n",
    "\n",
    "            # Iterate over data.\n",
    "            for inputs, labels in dataloaders[phase]:\n",
    "                inputs = inputs.to(device)\n",
    "                labels = labels.to(device)\n",
    "\n",
    "                # zero the parameter gradients\n",
    "                optimizer.zero_grad()\n",
    "\n",
    "                # forward\n",
    "                # track history if only in train\n",
    "                with torch.set_grad_enabled(phase == 'train'):\n",
    "                    outputs = model(inputs)\n",
    "                    _, preds = torch.max(outputs, 1)\n",
    "                    loss = criterion(outputs, labels)\n",
    "\n",
    "                    # backward + optimize only if in training phase\n",
    "                    if phase == 'train':\n",
    "                        loss.backward()\n",
    "                        optimizer.step()\n",
    "\n",
    "                # statistics\n",
    "                running_loss += loss.item() * inputs.size(0)\n",
    "                running_corrects += torch.sum(preds == labels.data)\n",
    "            if phase == 'train':\n",
    "                scheduler.step()\n",
    "\n",
    "            epoch_loss = running_loss / dataset_sizes[phase]\n",
    "            epoch_acc = running_corrects.double() / dataset_sizes[phase]\n",
    "\n",
    "            print(f'{phase} Loss: {epoch_loss:.4f} Acc: {epoch_acc:.4f}')\n",
    "\n",
    "            # deep copy the model\n",
    "            if phase == 'val' and epoch_acc > best_acc:\n",
    "                best_acc = epoch_acc\n",
    "                best_model_wts = copy.deepcopy(model.state_dict())\n",
    "\n",
    "        print()\n",
    "\n",
    "    time_elapsed = time.time() - since\n",
    "    print(f'Training complete in {time_elapsed // 60:.0f}m {time_elapsed % 60:.0f}s')\n",
    "    print(f'Best val Acc: {best_acc:4f}')\n",
    "\n",
    "    # load best model weights\n",
    "    model.load_state_dict(best_model_wts)\n",
    "    return model"
   ]
  },
  {
   "attachments": {},
   "cell_type": "markdown",
   "metadata": {},
   "source": [
    "### Обучение и оценка"
   ]
  },
  {
   "cell_type": "code",
   "execution_count": 10,
   "metadata": {},
   "outputs": [
    {
     "name": "stdout",
     "output_type": "stream",
     "text": [
      "Epoch 0/11\n",
      "----------\n",
      "train Loss: 0.6902 Acc: 0.5625\n",
      "val Loss: 0.6236 Acc: 0.7500\n",
      "\n",
      "Epoch 1/11\n",
      "----------\n",
      "train Loss: 0.6354 Acc: 0.6458\n",
      "val Loss: 0.5920 Acc: 0.8125\n",
      "\n",
      "Epoch 2/11\n",
      "----------\n",
      "train Loss: 0.5428 Acc: 0.8333\n",
      "val Loss: 1.8966 Acc: 0.9688\n",
      "\n",
      "Epoch 3/11\n",
      "----------\n",
      "train Loss: 0.4467 Acc: 0.9583\n",
      "val Loss: 1.5407 Acc: 0.9688\n",
      "\n",
      "Epoch 4/11\n",
      "----------\n",
      "train Loss: 0.3942 Acc: 0.9792\n",
      "val Loss: 3.1633 Acc: 0.9688\n",
      "\n",
      "Epoch 5/11\n",
      "----------\n",
      "train Loss: 0.4215 Acc: 0.8333\n",
      "val Loss: 1.0058 Acc: 0.9688\n",
      "\n",
      "Epoch 6/11\n",
      "----------\n",
      "train Loss: 0.3321 Acc: 0.9583\n",
      "val Loss: 0.8982 Acc: 0.9688\n",
      "\n",
      "Epoch 7/11\n",
      "----------\n",
      "train Loss: 0.3580 Acc: 0.8958\n",
      "val Loss: 1.5141 Acc: 0.9688\n",
      "\n",
      "Epoch 8/11\n",
      "----------\n",
      "train Loss: 0.3210 Acc: 0.9583\n",
      "val Loss: 1.4064 Acc: 0.9688\n",
      "\n",
      "Epoch 9/11\n",
      "----------\n",
      "train Loss: 0.3403 Acc: 0.8958\n",
      "val Loss: 1.1137 Acc: 0.9688\n",
      "\n",
      "Epoch 10/11\n",
      "----------\n",
      "train Loss: 0.2812 Acc: 0.9375\n",
      "val Loss: 1.8335 Acc: 0.9688\n",
      "\n",
      "Epoch 11/11\n",
      "----------\n",
      "train Loss: 0.3600 Acc: 0.8750\n",
      "val Loss: 1.5065 Acc: 0.9688\n",
      "\n",
      "Training complete in 5m 23s\n",
      "Best val Acc: 0.968750\n"
     ]
    }
   ],
   "source": [
    "model_ft = train_model(model_conv, criterion, optimizer_conv, exp_lr_scheduler, num_epochs=12)"
   ]
  },
  {
   "attachments": {},
   "cell_type": "markdown",
   "metadata": {},
   "source": [
    "## Анализ данных\n",
    "\n",
    "Проанализировать данные и сделать выводы о возможных проблемах.\n",
    "\n",
    "Изображения для дообучения: \"болты\" и \"гайки\"\n",
    "1) Модель \"resnet101\": обучение 12 эпох, точность 0.968750\n",
    "2) Модель \"resnet18\": обучение 25 эпох, точность 1\n",
    "\n",
    "Модель с более меньшим кол-вом слоёв выполнила свою работу точнее. Такое поведение объяснятеся тем, что веса для этой модели были подобраны более подходящие."
   ]
  }
 ],
 "metadata": {
  "kernelspec": {
   "display_name": "Python 3",
   "language": "python",
   "name": "python3"
  },
  "language_info": {
   "codemirror_mode": {
    "name": "ipython",
    "version": 3
   },
   "file_extension": ".py",
   "mimetype": "text/x-python",
   "name": "python",
   "nbconvert_exporter": "python",
   "pygments_lexer": "ipython3",
   "version": "3.10.7"
  },
  "orig_nbformat": 4,
  "vscode": {
   "interpreter": {
    "hash": "a1df27bbbad40ecdaee24acfc89f0b5773272cabcb6b66c54293a258d4db6eb4"
   }
  }
 },
 "nbformat": 4,
 "nbformat_minor": 2
}
