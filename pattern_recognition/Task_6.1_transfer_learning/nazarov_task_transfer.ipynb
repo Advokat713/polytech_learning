{
 "cells": [
  {
   "attachments": {},
   "cell_type": "markdown",
   "metadata": {},
   "source": [
    "**Назаров Дмитрий Алексеевич 214-322**"
   ]
  },
  {
   "attachments": {},
   "cell_type": "markdown",
   "metadata": {},
   "source": [
    "# Задание 4 Transfer Learning\n",
    "\n",
    "## Задание\n",
    "\n",
    "Решить вашу задачу классификации используя перенос обучения. **Transfer Learning** - это процесс дообучения на **новых данных** нейросети, которая была обучена до этого на других данных, например, ImageNet.\n",
    "\n",
    "Определить задачу по классификации изображений основываясь на вашей теме диссертации. Если тема никак не связывается с изображениями, то придумать абстрактную задачу, например классификация радиодеталей.\n",
    "\n",
    "В рамках задачи выбрать количество классов объектов. На каждый класс подобрать минимум по 30 изображений и распределить их на обучающую (train) и проверочную выборку (val).\n",
    "\n",
    "Выбрать 2-3 уже обученные модели, дообучить их на ваших данных и оценить результат. Обученную модель используйте для извлечения признаков, то есть нужно \"заморозить\" все веса, кроме последних полносвязных слоев. Их мы создаем заново и в соответствии с вашим количеством классов.\n",
    "\n",
    "## Источники\n",
    "\n",
    "1. [Transfer learning for computer vision tutorial](https://pytorch.org/tutorials/beginner/transfer_learning_tutorial.html)"
   ]
  },
  {
   "cell_type": "code",
   "execution_count": 2,
   "metadata": {},
   "outputs": [
    {
     "name": "stderr",
     "output_type": "stream",
     "text": [
      "C:\\Users\\Dmitr\\AppData\\Local\\Temp/ipykernel_8200/2708429422.py:2: TqdmExperimentalWarning: Using `tqdm.autonotebook.tqdm` in notebook mode. Use `tqdm.tqdm` instead to force console mode (e.g. in jupyter console)\n",
      "  from tqdm.autonotebook import tqdm, trange\n"
     ]
    }
   ],
   "source": [
    "import os\n",
    "from tqdm.autonotebook import tqdm, trange\n",
    "\n",
    "import torch\n",
    "import torch.nn as nn\n",
    "import torch.optim as optim\n",
    "from torch.optim import lr_scheduler\n",
    "\n",
    "import numpy as np\n",
    "import torchvision\n",
    "from torchvision import datasets, models, transforms\n",
    "import matplotlib.pyplot as plt\n",
    "import time\n",
    "from torchvision.io import read_image\n",
    "from torchvision.models import ResNet101_Weights, ResNet18_Weights\n",
    "import copy"
   ]
  },
  {
   "cell_type": "code",
   "execution_count": 3,
   "metadata": {},
   "outputs": [],
   "source": [
    "# Преобразование обучающих данных для расширения обучающей выборки и её нормализация\n",
    "# Для валидационной (тестовой) выборки только нормализация\n",
    "\n",
    "data_transforms = {\n",
    "    'train': transforms.Compose([\n",
    "        transforms.RandomResizedCrop(244),\n",
    "        transforms.RandomHorizontalFlip(),\n",
    "        transforms.ToTensor(),\n",
    "        transforms.Normalize([0.485, 0.456, 0.406], [0.229, 0.224, 0.225])\n",
    "    ]),\n",
    "    'val': transforms.Compose([\n",
    "        transforms.Resize(256),\n",
    "        transforms.CenterCrop(244),\n",
    "        transforms.ToTensor(),\n",
    "        transforms.Normalize([0.485, 0.456, 0.406], [0.229, 0.224, 0.225])\n",
    "    ]),\n",
    "}\n",
    "\n",
    "data_dir =  \"./hymenoptera_data\" # папка с данными. Если запускаете в Colab, нужно скопировать данные к себе в директорию и примонтировать диск. Если запускаете локально --- скачайте данные.\n",
    "\n",
    "image_datasets = {x: datasets.ImageFolder(os.path.join(data_dir, x), data_transforms[x]) for x in ['train', 'val']}\n",
    "# специальный класс для загрузки данных в виде батчей\n",
    "dataloaders = {x: torch.utils.data.DataLoader(image_datasets[x], batch_size=4, shuffle=True, num_workers=2) for x in ['train', 'val']}\n",
    "dataset_sizes = {x: len(image_datasets[x]) for x in ['train', 'val']}\n",
    "class_names = image_datasets['train'].classes\n",
    "\n",
    "use_gpu = torch.cuda.is_available()"
   ]
  },
  {
   "attachments": {},
   "cell_type": "markdown",
   "metadata": {},
   "source": [
    "## Извлечение признаков\n",
    "\n",
    "[Список](https://pytorch.org/vision/stable/models.html#classification) предобученных моделей в Pytorch."
   ]
  },
  {
   "attachments": {},
   "cell_type": "markdown",
   "metadata": {},
   "source": [
    "### Загрузка модели"
   ]
  },
  {
   "cell_type": "code",
   "execution_count": 4,
   "metadata": {},
   "outputs": [
    {
     "name": "stderr",
     "output_type": "stream",
     "text": [
      "Downloading: \"https://download.pytorch.org/models/resnet18-f37072fd.pth\" to C:\\Users\\Dmitr/.cache\\torch\\hub\\checkpoints\\resnet18-f37072fd.pth\n"
     ]
    },
    {
     "data": {
      "application/vnd.jupyter.widget-view+json": {
       "model_id": "0c3ca2abcfc74655a9d9ed520b843d44",
       "version_major": 2,
       "version_minor": 0
      },
      "text/plain": [
       "  0%|          | 0.00/44.7M [00:00<?, ?B/s]"
      ]
     },
     "metadata": {},
     "output_type": "display_data"
    }
   ],
   "source": [
    "num_classes = 2 # Количество классов в вашей задаче\n",
    "\n",
    "weights = ResNet18_Weights.DEFAULT\n",
    "model_conv = torchvision.models.resnet18(weights=weights) # Выбирите 2-3 модели из списка и дообучите их (pretrained=True)\n",
    "# weights = ResNet101_Weights.DEFAULT\n",
    "# model_conv = torchvision.models.resnet101(weights=weights)\n",
    "for param in model_conv.parameters():\n",
    "    param.requires_grad = False\n",
    "\n",
    "# Параметры вновь созданных моделей по умолчанию имеют requires_grad=True\n",
    "num_ftrs = model_conv.fc.in_features\n",
    "model_conv.fc = nn.Linear(num_ftrs, num_classes)\n",
    "\n",
    "device = torch.device('cuda' if torch.cuda.is_available() else 'cpu')\n",
    "model_conv = model_conv.to(device)\n",
    "\n",
    "criterion = nn.CrossEntropyLoss()\n",
    "\n",
    "# Обратите внимание, что оптимизируются только параметры последнего слоя, в отличие от предыдущего.\n",
    "optimizer_conv = optim.SGD(model_conv.fc.parameters(), lr=0.001, momentum=0.9)\n",
    "\n",
    "# Уменьшение LR в 0,1 раза каждые 7 эпох\n",
    "exp_lr_scheduler = lr_scheduler.StepLR(optimizer_conv, step_size=7, gamma=0.1)"
   ]
  },
  {
   "attachments": {},
   "cell_type": "markdown",
   "metadata": {},
   "source": [
    "### Функция для обучения"
   ]
  },
  {
   "cell_type": "code",
   "execution_count": 5,
   "metadata": {},
   "outputs": [],
   "source": [
    "def train_model(model, criterion, optimizer, scheduler, num_epochs=25):\n",
    "    since = time.time()\n",
    "\n",
    "    best_model_wts = copy.deepcopy(model.state_dict())\n",
    "    best_acc = 0.0\n",
    "\n",
    "    for epoch in range(num_epochs):\n",
    "        print(f'Epoch {epoch}/{num_epochs - 1}')\n",
    "        print('-' * 10)\n",
    "\n",
    "        # Each epoch has a training and validation phase\n",
    "        for phase in ['train', 'val']:\n",
    "            if phase == 'train':\n",
    "                model.train()  # Set model to training mode\n",
    "            else:\n",
    "                model.eval()   # Set model to evaluate mode\n",
    "\n",
    "            running_loss = 0.0\n",
    "            running_corrects = 0\n",
    "\n",
    "            # Iterate over data.\n",
    "            for inputs, labels in dataloaders[phase]:\n",
    "                inputs = inputs.to(device)\n",
    "                labels = labels.to(device)\n",
    "\n",
    "                # zero the parameter gradients\n",
    "                optimizer.zero_grad()\n",
    "\n",
    "                # forward\n",
    "                # track history if only in train\n",
    "                with torch.set_grad_enabled(phase == 'train'):\n",
    "                    outputs = model(inputs)\n",
    "                    _, preds = torch.max(outputs, 1)\n",
    "                    loss = criterion(outputs, labels)\n",
    "\n",
    "                    # backward + optimize only if in training phase\n",
    "                    if phase == 'train':\n",
    "                        loss.backward()\n",
    "                        optimizer.step()\n",
    "\n",
    "                # statistics\n",
    "                running_loss += loss.item() * inputs.size(0)\n",
    "                running_corrects += torch.sum(preds == labels.data)\n",
    "            if phase == 'train':\n",
    "                scheduler.step()\n",
    "\n",
    "            epoch_loss = running_loss / dataset_sizes[phase]\n",
    "            epoch_acc = running_corrects.double() / dataset_sizes[phase]\n",
    "\n",
    "            print(f'{phase} Loss: {epoch_loss:.4f} Acc: {epoch_acc:.4f}')\n",
    "\n",
    "            # deep copy the model\n",
    "            if phase == 'val' and epoch_acc > best_acc:\n",
    "                best_acc = epoch_acc\n",
    "                best_model_wts = copy.deepcopy(model.state_dict())\n",
    "\n",
    "        print()\n",
    "\n",
    "    time_elapsed = time.time() - since\n",
    "    print(f'Training complete in {time_elapsed // 60:.0f}m {time_elapsed % 60:.0f}s')\n",
    "    print(f'Best val Acc: {best_acc:4f}')\n",
    "\n",
    "    # load best model weights\n",
    "    model.load_state_dict(best_model_wts)\n",
    "    return model"
   ]
  },
  {
   "attachments": {},
   "cell_type": "markdown",
   "metadata": {},
   "source": [
    "### Обучение и оценка"
   ]
  },
  {
   "cell_type": "code",
   "execution_count": 6,
   "metadata": {},
   "outputs": [
    {
     "name": "stdout",
     "output_type": "stream",
     "text": [
      "Epoch 0/11\n",
      "----------\n",
      "train Loss: 0.8541 Acc: 0.3750\n",
      "val Loss: 0.5915 Acc: 0.6875\n",
      "\n",
      "Epoch 1/11\n",
      "----------\n",
      "train Loss: 0.4690 Acc: 0.8125\n",
      "val Loss: 0.2276 Acc: 1.0000\n",
      "\n",
      "Epoch 2/11\n",
      "----------\n",
      "train Loss: 0.4355 Acc: 0.8333\n",
      "val Loss: 0.1295 Acc: 1.0000\n",
      "\n",
      "Epoch 3/11\n",
      "----------\n",
      "train Loss: 0.4255 Acc: 0.7708\n",
      "val Loss: 0.1253 Acc: 1.0000\n",
      "\n",
      "Epoch 4/11\n",
      "----------\n",
      "train Loss: 0.3310 Acc: 0.8750\n",
      "val Loss: 0.1425 Acc: 0.9375\n",
      "\n",
      "Epoch 5/11\n",
      "----------\n",
      "train Loss: 0.3626 Acc: 0.8750\n",
      "val Loss: 0.1644 Acc: 0.9062\n",
      "\n",
      "Epoch 6/11\n",
      "----------\n",
      "train Loss: 0.4132 Acc: 0.8333\n",
      "val Loss: 0.0915 Acc: 0.9688\n",
      "\n",
      "Epoch 7/11\n",
      "----------\n",
      "train Loss: 0.3370 Acc: 0.8333\n",
      "val Loss: 0.0911 Acc: 0.9688\n",
      "\n",
      "Epoch 8/11\n",
      "----------\n",
      "train Loss: 0.2240 Acc: 0.8958\n",
      "val Loss: 0.0604 Acc: 1.0000\n",
      "\n",
      "Epoch 9/11\n",
      "----------\n",
      "train Loss: 0.1413 Acc: 1.0000\n",
      "val Loss: 0.0608 Acc: 1.0000\n",
      "\n",
      "Epoch 10/11\n",
      "----------\n",
      "train Loss: 0.3025 Acc: 0.8958\n",
      "val Loss: 0.0522 Acc: 1.0000\n",
      "\n",
      "Epoch 11/11\n",
      "----------\n",
      "train Loss: 0.2100 Acc: 0.9375\n",
      "val Loss: 0.0629 Acc: 1.0000\n",
      "\n",
      "Training complete in 1m 23s\n",
      "Best val Acc: 1.000000\n"
     ]
    }
   ],
   "source": [
    "model_ft = train_model(model_conv, criterion, optimizer_conv, exp_lr_scheduler, num_epochs=12)"
   ]
  },
  {
   "attachments": {},
   "cell_type": "markdown",
   "metadata": {},
   "source": [
    "## Анализ данных\n",
    "\n",
    "Проанализировать данные и сделать выводы о возможных проблемах.\n",
    "\n",
    "Изображения для дообучения: \"болты\" и \"гайки\"\n",
    "1) Модель \"resnet101\": обучение 12 эпох, точность 0.843750\n",
    "2) Модель \"resnet18\": обучение 25 эпох, точность 1\n",
    "\n",
    "Модель с более меньшим кол-вом слоёв выполнила свою работу точнее. Такое поведение объяснятеся тем, что веса для этой модели были подобраны более подходящие."
   ]
  }
 ],
 "metadata": {
  "kernelspec": {
   "display_name": "Python 3.10.0 64-bit",
   "language": "python",
   "name": "python3"
  },
  "language_info": {
   "codemirror_mode": {
    "name": "ipython",
    "version": 3
   },
   "file_extension": ".py",
   "mimetype": "text/x-python",
   "name": "python",
   "nbconvert_exporter": "python",
   "pygments_lexer": "ipython3",
   "version": "3.10.0"
  },
  "orig_nbformat": 4,
  "vscode": {
   "interpreter": {
    "hash": "305ef3f5ebfb772cf36ad768aa0371a76d4f9c468fa2831dc8f3165133ea3ace"
   }
  }
 },
 "nbformat": 4,
 "nbformat_minor": 2
}
