{
 "cells": [
  {
   "cell_type": "code",
   "execution_count": 7,
   "metadata": {},
   "outputs": [],
   "source": [
    "from PIL import Image, ImageDraw\n",
    "import numpy as np\n",
    "import math\n",
    "import matplotlib.pyplot as plt"
   ]
  },
  {
   "cell_type": "code",
   "execution_count": 12,
   "metadata": {},
   "outputs": [],
   "source": [
    "sampling_rate = 0.00366772681*100\n",
    "sampling_rate_stack = [sampling_rate / 5, \n",
    "    sampling_rate / 3, \n",
    "    sampling_rate / 2, \n",
    "    sampling_rate, \n",
    "    1.41 * sampling_rate, \n",
    "    2 * sampling_rate, \n",
    "    3 * sampling_rate\n",
    "]\n",
    "phase_shift = 0\n",
    "phase_shift = math.pi / 2"
   ]
  },
  {
   "cell_type": "code",
   "execution_count": null,
   "metadata": {},
   "outputs": [],
   "source": [
    "# Функция синуса\n",
    "def sinusoidal_function(x, frequency):\n",
    "    return(0.5 * np.sin(x * frequency + phase_shift) + 0.5)\n",
    "\n",
    "# Функция дискретизации\n",
    "def sampling_function(frequency):\n",
    "    sas = np.array([])\n",
    "    for i in np.arange(0, sampling_rate * 3000, sampling_rate):\n",
    "        sas=np.append(sas, sinusoidal_function(i, frequency))\n",
    "        # print(i)\n",
    "    return sas\n",
    "\n",
    "# Вывод графика функции\n",
    "def draw(frequency):\n",
    "    x = np.arange(0, sampling_rate * 3000, sampling_rate)\n",
    "    plt.plot(x, sinusoidal_function(x, frequency))\n",
    "    plt.ylim(0, 1)\n",
    "    plt.show()\n",
    "\n",
    "for item in sampling_rate_stack:\n",
    "    draw(item)"
   ]
  },
  {
   "cell_type": "code",
   "execution_count": 17,
   "metadata": {},
   "outputs": [],
   "source": [
    "def get_image_data(mas):\n",
    "    mas = mas.tolist()\n",
    "    sas = 8\n",
    "    result=[]\n",
    "\n",
    "    for i in range(len(mas))[::sas]:\n",
    "        if(i < len(mas) - sas):\n",
    "            average = (mas[i] + mas[i + 1] + mas[i + 2]) / sas\n",
    "            result.append(average)\n",
    "            # print(f\"{mas[i]}, {mas[i+1]}, {mas[i+2]}, {average}\")\n",
    "    return result\n",
    "\n",
    "\n",
    "# Создание изображения по дискретизированной функции\n",
    "def create_image(filename, values): \n",
    "    size = len(values)\n",
    "    img = Image.new('L', (size,size), color = 'black')\n",
    "    d = ImageDraw.Draw(img)\n",
    "\n",
    "    for x in range(size - 1):\n",
    "        top = (x, 0)\n",
    "        bottom = (x, size)\n",
    "        line_color = round(values[x]*255)\n",
    "        d.line([top, bottom], fill=line_color, width=1)\n",
    "\n",
    "    img.save(filename)\n",
    "\n",
    "\n",
    "img_count = 1\n",
    "\n",
    "for item in sampling_rate_stack:\n",
    "    create_image(f\"./images/{img_count}.jpg\", get_image_data(sampling_function(item)))\n",
    "    img_count += 1\n",
    "\n",
    "# img_count = 1\n",
    "\n",
    "# for item in sampling_rate_stack:\n",
    "#     create_image(f\"./images/{img_count}_phase_shift.jpg\", shrek(sampling_function(item)))\n",
    "#     img_count += 1"
   ]
  },
  {
   "cell_type": "code",
   "execution_count": null,
   "metadata": {},
   "outputs": [],
   "source": [
    "def image(p):\n",
    "    p = p * 255\n",
    "    image = np.full((len(p), len(p)), fill_value=p)\n",
    "    plt.imshow(image, cmap=\"gray\")\n",
    "    return image\n",
    "\n",
    "image(sampling_function(sampling_rate_stack[6]))"
   ]
  }
 ],
 "metadata": {
  "kernelspec": {
   "display_name": "Python 3.10.0 64-bit",
   "language": "python",
   "name": "python3"
  },
  "language_info": {
   "codemirror_mode": {
    "name": "ipython",
    "version": 3
   },
   "file_extension": ".py",
   "mimetype": "text/x-python",
   "name": "python",
   "nbconvert_exporter": "python",
   "pygments_lexer": "ipython3",
   "version": "3.10.0"
  },
  "orig_nbformat": 4,
  "vscode": {
   "interpreter": {
    "hash": "305ef3f5ebfb772cf36ad768aa0371a76d4f9c468fa2831dc8f3165133ea3ace"
   }
  }
 },
 "nbformat": 4,
 "nbformat_minor": 2
}
